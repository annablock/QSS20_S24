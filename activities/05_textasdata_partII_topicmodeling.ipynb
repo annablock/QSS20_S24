{
 "cells": [
  {
   "cell_type": "markdown",
   "metadata": {},
   "source": [
    "# Notebook for topic modeling "
   ]
  },
  {
   "cell_type": "markdown",
   "metadata": {},
   "source": [
    "# 0. Imports"
   ]
  },
  {
   "cell_type": "code",
   "execution_count": 6,
   "metadata": {},
   "outputs": [
    {
     "name": "stderr",
     "output_type": "stream",
     "text": [
      "[nltk_data] Downloading package punkt to /Users/annablock/nltk_data...\n",
      "[nltk_data]   Package punkt is already up-to-date!\n"
     ]
    },
    {
     "data": {
      "text/plain": [
       "True"
      ]
     },
     "execution_count": 6,
     "metadata": {},
     "output_type": "execute_result"
    },
    {
     "name": "stderr",
     "output_type": "stream",
     "text": [
      "[nltk_data] Downloading package stopwords to\n",
      "[nltk_data]     /Users/annablock/nltk_data...\n",
      "[nltk_data]   Unzipping corpora/stopwords.zip.\n"
     ]
    },
    {
     "data": {
      "text/plain": [
       "True"
      ]
     },
     "execution_count": 6,
     "metadata": {},
     "output_type": "execute_result"
    }
   ],
   "source": [
    "## load packages \n",
    "import pandas as pd\n",
    "import re\n",
    "import numpy as np\n",
    "\n",
    "## nltk imports\n",
    "#!pip install nltk # can install on terminal or by uncommenting this line\n",
    "import nltk; nltk.download('punkt'); nltk.download('stopwords')\n",
    "from nltk.tokenize import word_tokenize, wordpunct_tokenize\n",
    "from nltk.corpus import stopwords\n",
    "from nltk.stem.porter import PorterStemmer\n",
    "\n",
    "## sklearn imports\n",
    "from sklearn.feature_extraction.text import CountVectorizer\n",
    "\n",
    "## lda\n",
    "#!pip install gensim # can install by uncommenting this line\n",
    "from gensim import corpora\n",
    "import gensim\n",
    "\n",
    "## visualizing LDA--likely need to install\n",
    "#!pip install pyLDAvis # can install by uncommenting this line\n",
    "import pyLDAvis.gensim_models as gensimvis\n",
    "import pyLDAvis\n",
    "pyLDAvis.enable_notebook()\n",
    "\n",
    "## print mult things\n",
    "from IPython.core.interactiveshell import InteractiveShell\n",
    "InteractiveShell.ast_node_interactivity = \"all\"\n",
    "\n",
    "## random\n",
    "import random\n",
    "import string; punctlist = [char for char in string.punctuation] # list of english punctuation marks"
   ]
  },
  {
   "cell_type": "markdown",
   "metadata": {},
   "source": [
    "# 0. Load data"
   ]
  },
  {
   "cell_type": "code",
   "execution_count": 3,
   "metadata": {},
   "outputs": [
    {
     "data": {
      "text/html": [
       "<div>\n",
       "<style scoped>\n",
       "    .dataframe tbody tr th:only-of-type {\n",
       "        vertical-align: middle;\n",
       "    }\n",
       "\n",
       "    .dataframe tbody tr th {\n",
       "        vertical-align: top;\n",
       "    }\n",
       "\n",
       "    .dataframe thead th {\n",
       "        text-align: right;\n",
       "    }\n",
       "</style>\n",
       "<table border=\"1\" class=\"dataframe\">\n",
       "  <thead>\n",
       "    <tr style=\"text-align: right;\">\n",
       "      <th></th>\n",
       "      <th>id</th>\n",
       "      <th>name</th>\n",
       "      <th>name_upper</th>\n",
       "      <th>neighbourhood_group</th>\n",
       "      <th>price</th>\n",
       "    </tr>\n",
       "  </thead>\n",
       "  <tbody>\n",
       "    <tr>\n",
       "      <th>0</th>\n",
       "      <td>2539</td>\n",
       "      <td>Clean &amp; quiet apt home by the park</td>\n",
       "      <td>CLEAN &amp; QUIET APT HOME BY THE PARK</td>\n",
       "      <td>Brooklyn</td>\n",
       "      <td>149</td>\n",
       "    </tr>\n",
       "    <tr>\n",
       "      <th>1</th>\n",
       "      <td>2595</td>\n",
       "      <td>Skylit Midtown Castle</td>\n",
       "      <td>SKYLIT MIDTOWN CASTLE</td>\n",
       "      <td>Manhattan</td>\n",
       "      <td>225</td>\n",
       "    </tr>\n",
       "    <tr>\n",
       "      <th>2</th>\n",
       "      <td>3647</td>\n",
       "      <td>THE VILLAGE OF HARLEM....NEW YORK !</td>\n",
       "      <td>THE VILLAGE OF HARLEM....NEW YORK !</td>\n",
       "      <td>Manhattan</td>\n",
       "      <td>150</td>\n",
       "    </tr>\n",
       "    <tr>\n",
       "      <th>3</th>\n",
       "      <td>3831</td>\n",
       "      <td>Cozy Entire Floor of Brownstone</td>\n",
       "      <td>COZY ENTIRE FLOOR OF BROWNSTONE</td>\n",
       "      <td>Brooklyn</td>\n",
       "      <td>89</td>\n",
       "    </tr>\n",
       "    <tr>\n",
       "      <th>4</th>\n",
       "      <td>5022</td>\n",
       "      <td>Entire Apt: Spacious Studio/Loft by central park</td>\n",
       "      <td>ENTIRE APT: SPACIOUS STUDIO/LOFT BY CENTRAL PARK</td>\n",
       "      <td>Manhattan</td>\n",
       "      <td>80</td>\n",
       "    </tr>\n",
       "  </tbody>\n",
       "</table>\n",
       "</div>"
      ],
      "text/plain": [
       "     id                                              name  \\\n",
       "0  2539                Clean & quiet apt home by the park   \n",
       "1  2595                             Skylit Midtown Castle   \n",
       "2  3647               THE VILLAGE OF HARLEM....NEW YORK !   \n",
       "3  3831                   Cozy Entire Floor of Brownstone   \n",
       "4  5022  Entire Apt: Spacious Studio/Loft by central park   \n",
       "\n",
       "                                         name_upper neighbourhood_group  price  \n",
       "0                CLEAN & QUIET APT HOME BY THE PARK            Brooklyn    149  \n",
       "1                             SKYLIT MIDTOWN CASTLE           Manhattan    225  \n",
       "2               THE VILLAGE OF HARLEM....NEW YORK !           Manhattan    150  \n",
       "3                   COZY ENTIRE FLOOR OF BROWNSTONE            Brooklyn     89  \n",
       "4  ENTIRE APT: SPACIOUS STUDIO/LOFT BY CENTRAL PARK           Manhattan     80  "
      ]
     },
     "execution_count": 3,
     "metadata": {},
     "output_type": "execute_result"
    }
   ],
   "source": [
    "ab = pd.read_csv(\"../public_data/airbnb_text.zip\")\n",
    "ab.head()"
   ]
  },
  {
   "cell_type": "markdown",
   "metadata": {},
   "source": [
    "# 1. Preprocess documents\n",
    "\n",
    "In this case, each name/name_upper, or listing title, we're treating as a document"
   ]
  },
  {
   "cell_type": "markdown",
   "metadata": {},
   "source": [
    "## 1.1 Load stopwords list and augment with our own custom ones"
   ]
  },
  {
   "cell_type": "code",
   "execution_count": 7,
   "metadata": {},
   "outputs": [],
   "source": [
    "list_stopwords = stopwords.words(\"english\")\n",
    "\n",
    "custom_words_toadd = ['apartment', 'new york', 'nyc',\n",
    "                      'bronx', 'brooklyn',\n",
    "                     'manhattan', 'queens', \n",
    "                      'staten island']\n",
    "\n",
    "list_stopwords_new = list_stopwords + custom_words_toadd\n"
   ]
  },
  {
   "cell_type": "markdown",
   "metadata": {},
   "source": [
    "## 1.2 Remove stopwords from lowercase version of corpus\n"
   ]
  },
  {
   "cell_type": "code",
   "execution_count": 8,
   "metadata": {},
   "outputs": [
    {
     "data": {
      "text/plain": [
       "['clean & quiet apt home by the park',\n",
       " 'skylit midtown castle',\n",
       " 'the village of harlem....new york !',\n",
       " 'cozy entire floor of brownstone',\n",
       " 'entire apt: spacious studio/loft by central park']"
      ]
     },
     "execution_count": 8,
     "metadata": {},
     "output_type": "execute_result"
    },
    {
     "data": {
      "text/plain": [
       "['cozy', 'entire', 'floor', 'brownstone']"
      ]
     },
     "execution_count": 8,
     "metadata": {},
     "output_type": "execute_result"
    }
   ],
   "source": [
    "## convert to lowercase and a list\n",
    "corpus_lower = ab.name.str.lower().to_list()\n",
    "corpus_lower[0:5]\n",
    "\n",
    "## use wordpunct tokenize and filter out with one\n",
    "example_listing = corpus_lower[3]\n",
    "nostop_listing = [word for word in wordpunct_tokenize(example_listing) \n",
    "                          if word not in list_stopwords_new]\n",
    "nostop_listing"
   ]
  },
  {
   "cell_type": "markdown",
   "metadata": {},
   "source": [
    "## 1.3 stem and remove non-alpha\n",
    "\n",
    "Other contexts we may want to leave digits in"
   ]
  },
  {
   "cell_type": "code",
   "execution_count": 10,
   "metadata": {},
   "outputs": [
    {
     "data": {
      "text/plain": [
       "['cozi', 'entir', 'floor', 'brownston']"
      ]
     },
     "execution_count": 10,
     "metadata": {},
     "output_type": "execute_result"
    }
   ],
   "source": [
    "## initialize stemmer\n",
    "porter = PorterStemmer()\n",
    "\n",
    "## apply to one by iterating\n",
    "## over the tokens in the list\n",
    "example_listing_preprocess = [porter.stem(token) \n",
    "                            for token in nostop_listing \n",
    "                            if token.isalpha() and \n",
    "                            len(token) > 2]\n",
    "\n",
    "example_listing_preprocess"
   ]
  },
  {
   "cell_type": "code",
   "execution_count": 11,
   "metadata": {},
   "outputs": [
    {
     "data": {
      "text/plain": [
       "'cozy entire floor of brownstone'"
      ]
     },
     "execution_count": 11,
     "metadata": {},
     "output_type": "execute_result"
    },
    {
     "data": {
      "text/plain": [
       "['cozi', 'entir', 'floor', 'brownston']"
      ]
     },
     "execution_count": 11,
     "metadata": {},
     "output_type": "execute_result"
    }
   ],
   "source": [
    "example_listing\n",
    "example_listing_preprocess"
   ]
  },
  {
   "cell_type": "markdown",
   "metadata": {},
   "source": [
    "## 1.4 Activity 1\n",
    "\n",
    "The above example performed preprocessing on a single Airbnb listing. We want to generalize this preprocessing across all listings.\n",
    "\n",
    "- Embed step two (remove stopwords) and step three (stem) into one or two functions that take in a raw string (eg the raw text of an Airbnb review) and return a preprocessed string \n",
    "- Apply the function iteratively to preprocess all the texts in `corpus_lower`. Output could either be a list where each list element is a string of a list (e.g., `cozy brownstone apt`), or a list of lists where each element is a tokenized string (e.g., `['cozy', 'brownstone', 'apt'])`\n",
    "\n",
    "Output is flexible: it could be a list of lists containing tokenized/stemmed text or a list of strings."
   ]
  },
  {
   "cell_type": "code",
   "execution_count": 27,
   "metadata": {},
   "outputs": [
    {
     "data": {
      "text/plain": [
       "[['clean', 'quiet', 'apt', 'home', 'park'],\n",
       " ['skylit', 'midtown', 'castl'],\n",
       " ['villag', 'harlem', 'new', 'york'],\n",
       " ['cozi', 'entir', 'floor', 'brownston'],\n",
       " ['entir', 'apt', 'spaciou', 'studio', 'loft', 'central', 'park'],\n",
       " ['larg', 'cozi', 'midtown', 'east']]"
      ]
     },
     "execution_count": 27,
     "metadata": {},
     "output_type": "execute_result"
    }
   ],
   "source": [
    "# your code here to define the function(s)\n",
    "def stopword_stem(string): \n",
    "\n",
    "    if pd.isna(string): \n",
    "        return \"\"\n",
    "    tokens = wordpunct_tokenize(string)\n",
    "    no_stopwords = [word for word in tokens if word not in list_stopwords_new]\n",
    "    stemmed_tokens = [porter.stem(token) for token in no_stopwords if token.isalpha() and len(token) > 2]\n",
    "    return stemmed_tokens\n",
    "\n",
    "    return string_listing\n",
    "\n",
    "    \n",
    "\n",
    "# your code here to apply the function\n",
    "processed = [stopword_stem(string) for string in corpus_lower]\n",
    "processed[:6]"
   ]
  },
  {
   "cell_type": "markdown",
   "metadata": {},
   "source": [
    "# 2. Create a document-term matrix and do some basic diagnostics (more manual approach)\n",
    "\n",
    "Here we'll create a DTM first using the raw documents; in the activity, you'll create one using the preprocessed docs\n",
    "that you created in activity 1"
   ]
  },
  {
   "cell_type": "markdown",
   "metadata": {},
   "source": [
    "## 2.1 Define the dtm function and select data to transform into a document-term matrix"
   ]
  },
  {
   "cell_type": "code",
   "execution_count": 28,
   "metadata": {},
   "outputs": [],
   "source": [
    "## function provided\n",
    "def create_dtm(list_of_strings, metadata):\n",
    "    \"\"\" \n",
    "    Function to create dense document-term matrix (DTM) from a list of strings and provided metadata. \n",
    "    A sparse DTM is a list of term_index/doc_index tuples: if a given term occurs in a given doc at least once, \n",
    "        then this count is listed as a tuple; if not, that term/doc pair is omitted. \n",
    "    In a dense DTM, each row is one text (e.g., an Airbnb listing), each column is a term, and \n",
    "        each cell indicates the frequency of that word in that text. \n",
    "    \n",
    "    Parameters:\n",
    "        list_of_strings (Series): each row contains a preprocessed string (need not be tokenized)\n",
    "        metadata (DataFrame): contains document-level covariates\n",
    "    \n",
    "    Returns:\n",
    "        Dense DTM with metadata on left and then one column per word in lexicon\n",
    "    \"\"\"\n",
    "    \n",
    "    # initialize a sklearn tokenizer; this helps us tokenize the preprocessed string input\n",
    "    vectorizer = CountVectorizer(lowercase = True) \n",
    "    dtm_sparse = vectorizer.fit_transform(list_of_strings)\n",
    "    print('Sparse matrix form:\\n', dtm_sparse[:3]) # take a look at sparse representation\n",
    "    print()\n",
    "    \n",
    "    # switch the dataframe from the sparse representation to the normal dense representation (so we can treat it as regular dataframe)\n",
    "    dtm_dense_named = pd.DataFrame(dtm_sparse.todense(), columns=vectorizer.get_feature_names_out ())\n",
    "    print('Dense matrix form:\\n', dtm_dense_named.head()) # take a look at dense representation\n",
    "    dtm_dense_named_withid = pd.concat([metadata.reset_index(), dtm_dense_named], axis = 1) # add back document-level covariates\n",
    "\n",
    "    return(dtm_dense_named_withid)"
   ]
  },
  {
   "cell_type": "code",
   "execution_count": 29,
   "metadata": {},
   "outputs": [
    {
     "data": {
      "text/html": [
       "<div>\n",
       "<style scoped>\n",
       "    .dataframe tbody tr th:only-of-type {\n",
       "        vertical-align: middle;\n",
       "    }\n",
       "\n",
       "    .dataframe tbody tr th {\n",
       "        vertical-align: top;\n",
       "    }\n",
       "\n",
       "    .dataframe thead th {\n",
       "        text-align: right;\n",
       "    }\n",
       "</style>\n",
       "<table border=\"1\" class=\"dataframe\">\n",
       "  <thead>\n",
       "    <tr style=\"text-align: right;\">\n",
       "      <th></th>\n",
       "      <th>id</th>\n",
       "      <th>neighbourhood_group</th>\n",
       "      <th>price_rawdata</th>\n",
       "      <th>name</th>\n",
       "      <th>name_lower</th>\n",
       "    </tr>\n",
       "  </thead>\n",
       "  <tbody>\n",
       "    <tr>\n",
       "      <th>23821</th>\n",
       "      <td>19227560</td>\n",
       "      <td>Queens</td>\n",
       "      <td>100</td>\n",
       "      <td>Super Cozy!</td>\n",
       "      <td>super cozy!</td>\n",
       "    </tr>\n",
       "    <tr>\n",
       "      <th>22905</th>\n",
       "      <td>18560625</td>\n",
       "      <td>Brooklyn</td>\n",
       "      <td>30</td>\n",
       "      <td>Beautiful Private Bedroom by Prospect Park</td>\n",
       "      <td>beautiful private bedroom by prospect park</td>\n",
       "    </tr>\n",
       "    <tr>\n",
       "      <th>20426</th>\n",
       "      <td>16289576</td>\n",
       "      <td>Manhattan</td>\n",
       "      <td>80</td>\n",
       "      <td>Best Location on the Upper West Side! - Part II</td>\n",
       "      <td>best location on the upper west side! - part ii</td>\n",
       "    </tr>\n",
       "    <tr>\n",
       "      <th>2018</th>\n",
       "      <td>893413</td>\n",
       "      <td>Manhattan</td>\n",
       "      <td>2500</td>\n",
       "      <td>Architecturally Stunning Former Synagogue!</td>\n",
       "      <td>architecturally stunning former synagogue!</td>\n",
       "    </tr>\n",
       "    <tr>\n",
       "      <th>18790</th>\n",
       "      <td>14882137</td>\n",
       "      <td>Queens</td>\n",
       "      <td>50</td>\n",
       "      <td>Large, beautiful room near Bushwick</td>\n",
       "      <td>large, beautiful room near bushwick</td>\n",
       "    </tr>\n",
       "  </tbody>\n",
       "</table>\n",
       "</div>"
      ],
      "text/plain": [
       "             id neighbourhood_group  price_rawdata  \\\n",
       "23821  19227560              Queens            100   \n",
       "22905  18560625            Brooklyn             30   \n",
       "20426  16289576           Manhattan             80   \n",
       "2018     893413           Manhattan           2500   \n",
       "18790  14882137              Queens             50   \n",
       "\n",
       "                                                  name  \\\n",
       "23821                                      Super Cozy!   \n",
       "22905       Beautiful Private Bedroom by Prospect Park   \n",
       "20426  Best Location on the Upper West Side! - Part II   \n",
       "2018        Architecturally Stunning Former Synagogue!   \n",
       "18790              Large, beautiful room near Bushwick   \n",
       "\n",
       "                                            name_lower  \n",
       "23821                                      super cozy!  \n",
       "22905       beautiful private bedroom by prospect park  \n",
       "20426  best location on the upper west side! - part ii  \n",
       "2018        architecturally stunning former synagogue!  \n",
       "18790              large, beautiful room near bushwick  "
      ]
     },
     "execution_count": 29,
     "metadata": {},
     "output_type": "execute_result"
    }
   ],
   "source": [
    "\n",
    "## filter out na's\n",
    "## for shorter runtime, random sampling of 1000\n",
    "## get metadata for those\n",
    "## and also renaming price col since it's likely to be corpus word\n",
    "ab_small = ab.loc[~ab.name.isnull(),\n",
    "           ['id', 'neighbourhood_group', 'price', 'name']].copy().rename(columns = {'price':\n",
    "            'price_rawdata'}).sample(n = 1000, random_state = 422)\n",
    "\n",
    "ab_small['name_lower'] = ab_small['name'].str.lower()\n",
    "ab_small.head()"
   ]
  },
  {
   "cell_type": "markdown",
   "metadata": {},
   "source": [
    "## 2.2 Execute the dtm function to create the document-term matrix"
   ]
  },
  {
   "cell_type": "code",
   "execution_count": 30,
   "metadata": {},
   "outputs": [
    {
     "name": "stdout",
     "output_type": "stream",
     "text": [
      "Sparse matrix form:\n",
      "   (0, 841)\t1\n",
      "  (0, 281)\t1\n",
      "  (1, 152)\t1\n",
      "  (1, 693)\t1\n",
      "  (1, 157)\t1\n",
      "  (1, 205)\t1\n",
      "  (1, 698)\t1\n",
      "  (1, 653)\t1\n",
      "  (2, 165)\t1\n",
      "  (2, 537)\t1\n",
      "  (2, 637)\t1\n",
      "  (2, 856)\t1\n",
      "  (2, 902)\t1\n",
      "  (2, 939)\t1\n",
      "  (2, 774)\t1\n",
      "  (2, 657)\t1\n",
      "  (2, 471)\t1\n",
      "\n",
      "Dense matrix form:\n",
      "    001  10  10m  10min  10mins  1100  12mins  14  15  15min  ...  yoga  york  \\\n",
      "0    0   0    0      0       0     0       0   0   0      0  ...     0     0   \n",
      "1    0   0    0      0       0     0       0   0   0      0  ...     0     0   \n",
      "2    0   0    0      0       0     0       0   0   0      0  ...     0     0   \n",
      "3    0   0    0      0       0     0       0   0   0      0  ...     0     0   \n",
      "4    0   0    0      0       0     0       0   0   0      0  ...     0     0   \n",
      "\n",
      "   you  your  yu  zen  ღღღsteps  法拉盛中心私人房間獨立衛浴  溫馨大套房  獨一無二的紐約閣樓  \n",
      "0    0     0   0    0         0              0      0          0  \n",
      "1    0     0   0    0         0              0      0          0  \n",
      "2    0     0   0    0         0              0      0          0  \n",
      "3    0     0   0    0         0              0      0          0  \n",
      "4    0     0   0    0         0              0      0          0  \n",
      "\n",
      "[5 rows x 970 columns]\n"
     ]
    }
   ],
   "source": [
    "## example application on raw lowercase texts; \n",
    "dtm_nopre = create_dtm(list_of_strings= ab_small.name_lower,\n",
    "                      metadata = ab_small[['id', 'neighbourhood_group', 'price_rawdata']])\n",
    "\n"
   ]
  },
  {
   "cell_type": "code",
   "execution_count": 31,
   "metadata": {},
   "outputs": [
    {
     "data": {
      "text/html": [
       "<div>\n",
       "<style scoped>\n",
       "    .dataframe tbody tr th:only-of-type {\n",
       "        vertical-align: middle;\n",
       "    }\n",
       "\n",
       "    .dataframe tbody tr th {\n",
       "        vertical-align: top;\n",
       "    }\n",
       "\n",
       "    .dataframe thead th {\n",
       "        text-align: right;\n",
       "    }\n",
       "</style>\n",
       "<table border=\"1\" class=\"dataframe\">\n",
       "  <thead>\n",
       "    <tr style=\"text-align: right;\">\n",
       "      <th></th>\n",
       "      <th>index</th>\n",
       "      <th>id</th>\n",
       "      <th>neighbourhood_group</th>\n",
       "      <th>price_rawdata</th>\n",
       "      <th>001</th>\n",
       "      <th>10</th>\n",
       "      <th>10m</th>\n",
       "      <th>10min</th>\n",
       "      <th>10mins</th>\n",
       "      <th>1100</th>\n",
       "      <th>...</th>\n",
       "      <th>yoga</th>\n",
       "      <th>york</th>\n",
       "      <th>you</th>\n",
       "      <th>your</th>\n",
       "      <th>yu</th>\n",
       "      <th>zen</th>\n",
       "      <th>ღღღsteps</th>\n",
       "      <th>法拉盛中心私人房間獨立衛浴</th>\n",
       "      <th>溫馨大套房</th>\n",
       "      <th>獨一無二的紐約閣樓</th>\n",
       "    </tr>\n",
       "  </thead>\n",
       "  <tbody>\n",
       "    <tr>\n",
       "      <th>0</th>\n",
       "      <td>23821</td>\n",
       "      <td>19227560</td>\n",
       "      <td>Queens</td>\n",
       "      <td>100</td>\n",
       "      <td>0</td>\n",
       "      <td>0</td>\n",
       "      <td>0</td>\n",
       "      <td>0</td>\n",
       "      <td>0</td>\n",
       "      <td>0</td>\n",
       "      <td>...</td>\n",
       "      <td>0</td>\n",
       "      <td>0</td>\n",
       "      <td>0</td>\n",
       "      <td>0</td>\n",
       "      <td>0</td>\n",
       "      <td>0</td>\n",
       "      <td>0</td>\n",
       "      <td>0</td>\n",
       "      <td>0</td>\n",
       "      <td>0</td>\n",
       "    </tr>\n",
       "    <tr>\n",
       "      <th>1</th>\n",
       "      <td>22905</td>\n",
       "      <td>18560625</td>\n",
       "      <td>Brooklyn</td>\n",
       "      <td>30</td>\n",
       "      <td>0</td>\n",
       "      <td>0</td>\n",
       "      <td>0</td>\n",
       "      <td>0</td>\n",
       "      <td>0</td>\n",
       "      <td>0</td>\n",
       "      <td>...</td>\n",
       "      <td>0</td>\n",
       "      <td>0</td>\n",
       "      <td>0</td>\n",
       "      <td>0</td>\n",
       "      <td>0</td>\n",
       "      <td>0</td>\n",
       "      <td>0</td>\n",
       "      <td>0</td>\n",
       "      <td>0</td>\n",
       "      <td>0</td>\n",
       "    </tr>\n",
       "    <tr>\n",
       "      <th>2</th>\n",
       "      <td>20426</td>\n",
       "      <td>16289576</td>\n",
       "      <td>Manhattan</td>\n",
       "      <td>80</td>\n",
       "      <td>0</td>\n",
       "      <td>0</td>\n",
       "      <td>0</td>\n",
       "      <td>0</td>\n",
       "      <td>0</td>\n",
       "      <td>0</td>\n",
       "      <td>...</td>\n",
       "      <td>0</td>\n",
       "      <td>0</td>\n",
       "      <td>0</td>\n",
       "      <td>0</td>\n",
       "      <td>0</td>\n",
       "      <td>0</td>\n",
       "      <td>0</td>\n",
       "      <td>0</td>\n",
       "      <td>0</td>\n",
       "      <td>0</td>\n",
       "    </tr>\n",
       "    <tr>\n",
       "      <th>3</th>\n",
       "      <td>2018</td>\n",
       "      <td>893413</td>\n",
       "      <td>Manhattan</td>\n",
       "      <td>2500</td>\n",
       "      <td>0</td>\n",
       "      <td>0</td>\n",
       "      <td>0</td>\n",
       "      <td>0</td>\n",
       "      <td>0</td>\n",
       "      <td>0</td>\n",
       "      <td>...</td>\n",
       "      <td>0</td>\n",
       "      <td>0</td>\n",
       "      <td>0</td>\n",
       "      <td>0</td>\n",
       "      <td>0</td>\n",
       "      <td>0</td>\n",
       "      <td>0</td>\n",
       "      <td>0</td>\n",
       "      <td>0</td>\n",
       "      <td>0</td>\n",
       "    </tr>\n",
       "    <tr>\n",
       "      <th>4</th>\n",
       "      <td>18790</td>\n",
       "      <td>14882137</td>\n",
       "      <td>Queens</td>\n",
       "      <td>50</td>\n",
       "      <td>0</td>\n",
       "      <td>0</td>\n",
       "      <td>0</td>\n",
       "      <td>0</td>\n",
       "      <td>0</td>\n",
       "      <td>0</td>\n",
       "      <td>...</td>\n",
       "      <td>0</td>\n",
       "      <td>0</td>\n",
       "      <td>0</td>\n",
       "      <td>0</td>\n",
       "      <td>0</td>\n",
       "      <td>0</td>\n",
       "      <td>0</td>\n",
       "      <td>0</td>\n",
       "      <td>0</td>\n",
       "      <td>0</td>\n",
       "    </tr>\n",
       "  </tbody>\n",
       "</table>\n",
       "<p>5 rows × 974 columns</p>\n",
       "</div>"
      ],
      "text/plain": [
       "   index        id neighbourhood_group  price_rawdata  001  10  10m  10min  \\\n",
       "0  23821  19227560              Queens            100    0   0    0      0   \n",
       "1  22905  18560625            Brooklyn             30    0   0    0      0   \n",
       "2  20426  16289576           Manhattan             80    0   0    0      0   \n",
       "3   2018    893413           Manhattan           2500    0   0    0      0   \n",
       "4  18790  14882137              Queens             50    0   0    0      0   \n",
       "\n",
       "   10mins  1100  ...  yoga  york  you  your  yu  zen  ღღღsteps  法拉盛中心私人房間獨立衛浴  \\\n",
       "0       0     0  ...     0     0    0     0   0    0         0              0   \n",
       "1       0     0  ...     0     0    0     0   0    0         0              0   \n",
       "2       0     0  ...     0     0    0     0   0    0         0              0   \n",
       "3       0     0  ...     0     0    0     0   0    0         0              0   \n",
       "4       0     0  ...     0     0    0     0   0    0         0              0   \n",
       "\n",
       "   溫馨大套房  獨一無二的紐約閣樓  \n",
       "0      0          0  \n",
       "1      0          0  \n",
       "2      0          0  \n",
       "3      0          0  \n",
       "4      0          0  \n",
       "\n",
       "[5 rows x 974 columns]"
      ]
     },
     "execution_count": 31,
     "metadata": {},
     "output_type": "execute_result"
    },
    {
     "data": {
      "text/plain": [
       "(1000, 974)"
      ]
     },
     "execution_count": 31,
     "metadata": {},
     "output_type": "execute_result"
    },
    {
     "data": {
      "text/html": [
       "<div>\n",
       "<style scoped>\n",
       "    .dataframe tbody tr th:only-of-type {\n",
       "        vertical-align: middle;\n",
       "    }\n",
       "\n",
       "    .dataframe tbody tr th {\n",
       "        vertical-align: top;\n",
       "    }\n",
       "\n",
       "    .dataframe thead th {\n",
       "        text-align: right;\n",
       "    }\n",
       "</style>\n",
       "<table border=\"1\" class=\"dataframe\">\n",
       "  <thead>\n",
       "    <tr style=\"text-align: right;\">\n",
       "      <th></th>\n",
       "      <th>inclusive</th>\n",
       "      <th>incredible</th>\n",
       "      <th>incredibly</th>\n",
       "      <th>indoor</th>\n",
       "      <th>inn</th>\n",
       "      <th>inq</th>\n",
       "      <th>insane</th>\n",
       "      <th>int</th>\n",
       "      <th>interior</th>\n",
       "      <th>international</th>\n",
       "      <th>interns</th>\n",
       "      <th>invincible</th>\n",
       "      <th>inviting</th>\n",
       "      <th>inwood</th>\n",
       "      <th>island</th>\n",
       "      <th>it</th>\n",
       "      <th>italy</th>\n",
       "      <th>its</th>\n",
       "      <th>jefferson</th>\n",
       "      <th>jewel</th>\n",
       "    </tr>\n",
       "  </thead>\n",
       "  <tbody>\n",
       "    <tr>\n",
       "      <th>0</th>\n",
       "      <td>0</td>\n",
       "      <td>0</td>\n",
       "      <td>0</td>\n",
       "      <td>0</td>\n",
       "      <td>0</td>\n",
       "      <td>0</td>\n",
       "      <td>0</td>\n",
       "      <td>0</td>\n",
       "      <td>0</td>\n",
       "      <td>0</td>\n",
       "      <td>0</td>\n",
       "      <td>0</td>\n",
       "      <td>0</td>\n",
       "      <td>0</td>\n",
       "      <td>0</td>\n",
       "      <td>0</td>\n",
       "      <td>0</td>\n",
       "      <td>0</td>\n",
       "      <td>0</td>\n",
       "      <td>0</td>\n",
       "    </tr>\n",
       "    <tr>\n",
       "      <th>1</th>\n",
       "      <td>0</td>\n",
       "      <td>0</td>\n",
       "      <td>0</td>\n",
       "      <td>0</td>\n",
       "      <td>0</td>\n",
       "      <td>0</td>\n",
       "      <td>0</td>\n",
       "      <td>0</td>\n",
       "      <td>0</td>\n",
       "      <td>0</td>\n",
       "      <td>0</td>\n",
       "      <td>0</td>\n",
       "      <td>0</td>\n",
       "      <td>0</td>\n",
       "      <td>0</td>\n",
       "      <td>0</td>\n",
       "      <td>0</td>\n",
       "      <td>0</td>\n",
       "      <td>0</td>\n",
       "      <td>0</td>\n",
       "    </tr>\n",
       "    <tr>\n",
       "      <th>2</th>\n",
       "      <td>0</td>\n",
       "      <td>0</td>\n",
       "      <td>0</td>\n",
       "      <td>0</td>\n",
       "      <td>0</td>\n",
       "      <td>0</td>\n",
       "      <td>0</td>\n",
       "      <td>0</td>\n",
       "      <td>0</td>\n",
       "      <td>0</td>\n",
       "      <td>0</td>\n",
       "      <td>0</td>\n",
       "      <td>0</td>\n",
       "      <td>0</td>\n",
       "      <td>0</td>\n",
       "      <td>0</td>\n",
       "      <td>0</td>\n",
       "      <td>0</td>\n",
       "      <td>0</td>\n",
       "      <td>0</td>\n",
       "    </tr>\n",
       "    <tr>\n",
       "      <th>3</th>\n",
       "      <td>0</td>\n",
       "      <td>0</td>\n",
       "      <td>0</td>\n",
       "      <td>0</td>\n",
       "      <td>0</td>\n",
       "      <td>0</td>\n",
       "      <td>0</td>\n",
       "      <td>0</td>\n",
       "      <td>0</td>\n",
       "      <td>0</td>\n",
       "      <td>0</td>\n",
       "      <td>0</td>\n",
       "      <td>0</td>\n",
       "      <td>0</td>\n",
       "      <td>0</td>\n",
       "      <td>0</td>\n",
       "      <td>0</td>\n",
       "      <td>0</td>\n",
       "      <td>0</td>\n",
       "      <td>0</td>\n",
       "    </tr>\n",
       "    <tr>\n",
       "      <th>4</th>\n",
       "      <td>0</td>\n",
       "      <td>0</td>\n",
       "      <td>0</td>\n",
       "      <td>0</td>\n",
       "      <td>0</td>\n",
       "      <td>0</td>\n",
       "      <td>0</td>\n",
       "      <td>0</td>\n",
       "      <td>0</td>\n",
       "      <td>0</td>\n",
       "      <td>0</td>\n",
       "      <td>0</td>\n",
       "      <td>0</td>\n",
       "      <td>0</td>\n",
       "      <td>0</td>\n",
       "      <td>0</td>\n",
       "      <td>0</td>\n",
       "      <td>0</td>\n",
       "      <td>0</td>\n",
       "      <td>0</td>\n",
       "    </tr>\n",
       "  </tbody>\n",
       "</table>\n",
       "</div>"
      ],
      "text/plain": [
       "   inclusive  incredible  incredibly  indoor  inn  inq  insane  int  interior  \\\n",
       "0          0           0           0       0    0    0       0    0         0   \n",
       "1          0           0           0       0    0    0       0    0         0   \n",
       "2          0           0           0       0    0    0       0    0         0   \n",
       "3          0           0           0       0    0    0       0    0         0   \n",
       "4          0           0           0       0    0    0       0    0         0   \n",
       "\n",
       "   international  interns  invincible  inviting  inwood  island  it  italy  \\\n",
       "0              0        0           0         0       0       0   0      0   \n",
       "1              0        0           0         0       0       0   0      0   \n",
       "2              0        0           0         0       0       0   0      0   \n",
       "3              0        0           0         0       0       0   0      0   \n",
       "4              0        0           0         0       0       0   0      0   \n",
       "\n",
       "   its  jefferson  jewel  \n",
       "0    0          0      0  \n",
       "1    0          0      0  \n",
       "2    0          0      0  \n",
       "3    0          0      0  \n",
       "4    0          0      0  "
      ]
     },
     "execution_count": 31,
     "metadata": {},
     "output_type": "execute_result"
    }
   ],
   "source": [
    "## show first set of rows/cols\n",
    "dtm_nopre.head()\n",
    "\n",
    "## show arbitrary later cols in resulting data\n",
    "dtm_nopre.shape\n",
    "dtm_nopre.iloc[0:5, 480:500]"
   ]
  },
  {
   "cell_type": "markdown",
   "metadata": {},
   "source": [
    "## 2.3 Use that matrix/column sums to get basic summary stats of top words"
   ]
  },
  {
   "cell_type": "code",
   "execution_count": 42,
   "metadata": {},
   "outputs": [
    {
     "data": {
      "text/plain": [
       "in           367\n",
       "room         244\n",
       "private      163\n",
       "bedroom      152\n",
       "apartment    130\n",
       "            ... \n",
       "24hr           1\n",
       "16             1\n",
       "1940           1\n",
       "19th           1\n",
       "fulton         1\n",
       "Length: 970, dtype: int64"
      ]
     },
     "execution_count": 42,
     "metadata": {},
     "output_type": "execute_result"
    }
   ],
   "source": [
    "## summing each col\n",
    "top_terms = dtm_nopre[dtm_nopre.columns[4:]].sum(axis = 0)\n",
    "\n",
    "## sorting from most frequent to least frequent\n",
    "top_terms.sort_values(ascending = False)\n"
   ]
  },
  {
   "cell_type": "markdown",
   "metadata": {},
   "source": [
    "## 2.4 Activity 2: repeat the above but using the preprocessed text data\n",
    "\n",
    "- Stick with the same random sample of 1000 `ab_small`\n",
    "- Apply the preprocessing steps from activity 1 to create a new column in `ab_small` with the preprocessed text (if you got stuck on that, try just removing stopwords)\n",
    "- Use the `create_dtm` function to create a document-term matrix from the preprocessed data\n",
    "- Use colsums to summarize"
   ]
  },
  {
   "cell_type": "code",
   "execution_count": 49,
   "metadata": {},
   "outputs": [
    {
     "ename": "AttributeError",
     "evalue": "'list' object has no attribute 'lower'",
     "output_type": "error",
     "traceback": [
      "\u001b[0;31m---------------------------------------------------------------------------\u001b[0m",
      "\u001b[0;31mAttributeError\u001b[0m                            Traceback (most recent call last)",
      "Cell \u001b[0;32mIn[49], line 4\u001b[0m\n\u001b[1;32m      2\u001b[0m ab_small[\u001b[38;5;124m\"\u001b[39m\u001b[38;5;124mprocessed\u001b[39m\u001b[38;5;124m\"\u001b[39m] \u001b[38;5;241m=\u001b[39m ab_small\u001b[38;5;241m.\u001b[39mname_lower\u001b[38;5;241m.\u001b[39mapply(stopword_stem)\n\u001b[1;32m      3\u001b[0m metadata_list \u001b[38;5;241m=\u001b[39m [\u001b[38;5;124m'\u001b[39m\u001b[38;5;124mid\u001b[39m\u001b[38;5;124m'\u001b[39m, \u001b[38;5;124m'\u001b[39m\u001b[38;5;124mneighbourhood_group\u001b[39m\u001b[38;5;124m'\u001b[39m, \u001b[38;5;124m'\u001b[39m\u001b[38;5;124mprice_rawdata\u001b[39m\u001b[38;5;124m'\u001b[39m]\n\u001b[0;32m----> 4\u001b[0m dtm_pre \u001b[38;5;241m=\u001b[39m create_dtm(list_of_strings\u001b[38;5;241m=\u001b[39m ab_small\u001b[38;5;241m.\u001b[39mprocessed,\n\u001b[1;32m      5\u001b[0m                 metadata \u001b[38;5;241m=\u001b[39m ab_small[metadata_list])\n\u001b[1;32m      6\u001b[0m dtm_pre_termsonly \u001b[38;5;241m=\u001b[39m dtm_pre[[col \u001b[38;5;28;01mfor\u001b[39;00m col \u001b[38;5;129;01min\u001b[39;00m dtm_pre\u001b[38;5;241m.\u001b[39mcolumns\n\u001b[1;32m      7\u001b[0m                              \u001b[38;5;28;01mif\u001b[39;00m col \u001b[38;5;129;01mnot\u001b[39;00m \u001b[38;5;129;01min\u001b[39;00m metadata_list \u001b[38;5;129;01mand\u001b[39;00m\n\u001b[1;32m      8\u001b[0m                              col \u001b[38;5;241m!=\u001b[39m \u001b[38;5;124m\"\u001b[39m\u001b[38;5;124mindex\u001b[39m\u001b[38;5;124m\"\u001b[39m]]\n\u001b[1;32m      9\u001b[0m dtm_pre_termsonly\u001b[38;5;241m.\u001b[39msum()\u001b[38;5;241m.\u001b[39msort_values(ascending \u001b[38;5;241m=\u001b[39m \u001b[38;5;28;01mFalse\u001b[39;00m)\n",
      "Cell \u001b[0;32mIn[28], line 20\u001b[0m, in \u001b[0;36mcreate_dtm\u001b[0;34m(list_of_strings, metadata)\u001b[0m\n\u001b[1;32m     18\u001b[0m \u001b[38;5;66;03m# initialize a sklearn tokenizer; this helps us tokenize the preprocessed string input\u001b[39;00m\n\u001b[1;32m     19\u001b[0m vectorizer \u001b[38;5;241m=\u001b[39m CountVectorizer(lowercase \u001b[38;5;241m=\u001b[39m \u001b[38;5;28;01mTrue\u001b[39;00m) \n\u001b[0;32m---> 20\u001b[0m dtm_sparse \u001b[38;5;241m=\u001b[39m vectorizer\u001b[38;5;241m.\u001b[39mfit_transform(list_of_strings)\n\u001b[1;32m     21\u001b[0m \u001b[38;5;28mprint\u001b[39m(\u001b[38;5;124m'\u001b[39m\u001b[38;5;124mSparse matrix form:\u001b[39m\u001b[38;5;130;01m\\n\u001b[39;00m\u001b[38;5;124m'\u001b[39m, dtm_sparse[:\u001b[38;5;241m3\u001b[39m]) \u001b[38;5;66;03m# take a look at sparse representation\u001b[39;00m\n\u001b[1;32m     22\u001b[0m \u001b[38;5;28mprint\u001b[39m()\n",
      "File \u001b[0;32m/opt/anaconda3/lib/python3.11/site-packages/sklearn/feature_extraction/text.py:1388\u001b[0m, in \u001b[0;36mCountVectorizer.fit_transform\u001b[0;34m(self, raw_documents, y)\u001b[0m\n\u001b[1;32m   1380\u001b[0m             warnings\u001b[38;5;241m.\u001b[39mwarn(\n\u001b[1;32m   1381\u001b[0m                 \u001b[38;5;124m\"\u001b[39m\u001b[38;5;124mUpper case characters found in\u001b[39m\u001b[38;5;124m\"\u001b[39m\n\u001b[1;32m   1382\u001b[0m                 \u001b[38;5;124m\"\u001b[39m\u001b[38;5;124m vocabulary while \u001b[39m\u001b[38;5;124m'\u001b[39m\u001b[38;5;124mlowercase\u001b[39m\u001b[38;5;124m'\u001b[39m\u001b[38;5;124m\"\u001b[39m\n\u001b[1;32m   1383\u001b[0m                 \u001b[38;5;124m\"\u001b[39m\u001b[38;5;124m is True. These entries will not\u001b[39m\u001b[38;5;124m\"\u001b[39m\n\u001b[1;32m   1384\u001b[0m                 \u001b[38;5;124m\"\u001b[39m\u001b[38;5;124m be matched with any documents\u001b[39m\u001b[38;5;124m\"\u001b[39m\n\u001b[1;32m   1385\u001b[0m             )\n\u001b[1;32m   1386\u001b[0m             \u001b[38;5;28;01mbreak\u001b[39;00m\n\u001b[0;32m-> 1388\u001b[0m vocabulary, X \u001b[38;5;241m=\u001b[39m \u001b[38;5;28mself\u001b[39m\u001b[38;5;241m.\u001b[39m_count_vocab(raw_documents, \u001b[38;5;28mself\u001b[39m\u001b[38;5;241m.\u001b[39mfixed_vocabulary_)\n\u001b[1;32m   1390\u001b[0m \u001b[38;5;28;01mif\u001b[39;00m \u001b[38;5;28mself\u001b[39m\u001b[38;5;241m.\u001b[39mbinary:\n\u001b[1;32m   1391\u001b[0m     X\u001b[38;5;241m.\u001b[39mdata\u001b[38;5;241m.\u001b[39mfill(\u001b[38;5;241m1\u001b[39m)\n",
      "File \u001b[0;32m/opt/anaconda3/lib/python3.11/site-packages/sklearn/feature_extraction/text.py:1275\u001b[0m, in \u001b[0;36mCountVectorizer._count_vocab\u001b[0;34m(self, raw_documents, fixed_vocab)\u001b[0m\n\u001b[1;32m   1273\u001b[0m \u001b[38;5;28;01mfor\u001b[39;00m doc \u001b[38;5;129;01min\u001b[39;00m raw_documents:\n\u001b[1;32m   1274\u001b[0m     feature_counter \u001b[38;5;241m=\u001b[39m {}\n\u001b[0;32m-> 1275\u001b[0m     \u001b[38;5;28;01mfor\u001b[39;00m feature \u001b[38;5;129;01min\u001b[39;00m analyze(doc):\n\u001b[1;32m   1276\u001b[0m         \u001b[38;5;28;01mtry\u001b[39;00m:\n\u001b[1;32m   1277\u001b[0m             feature_idx \u001b[38;5;241m=\u001b[39m vocabulary[feature]\n",
      "File \u001b[0;32m/opt/anaconda3/lib/python3.11/site-packages/sklearn/feature_extraction/text.py:111\u001b[0m, in \u001b[0;36m_analyze\u001b[0;34m(doc, analyzer, tokenizer, ngrams, preprocessor, decoder, stop_words)\u001b[0m\n\u001b[1;32m    109\u001b[0m \u001b[38;5;28;01melse\u001b[39;00m:\n\u001b[1;32m    110\u001b[0m     \u001b[38;5;28;01mif\u001b[39;00m preprocessor \u001b[38;5;129;01mis\u001b[39;00m \u001b[38;5;129;01mnot\u001b[39;00m \u001b[38;5;28;01mNone\u001b[39;00m:\n\u001b[0;32m--> 111\u001b[0m         doc \u001b[38;5;241m=\u001b[39m preprocessor(doc)\n\u001b[1;32m    112\u001b[0m     \u001b[38;5;28;01mif\u001b[39;00m tokenizer \u001b[38;5;129;01mis\u001b[39;00m \u001b[38;5;129;01mnot\u001b[39;00m \u001b[38;5;28;01mNone\u001b[39;00m:\n\u001b[1;32m    113\u001b[0m         doc \u001b[38;5;241m=\u001b[39m tokenizer(doc)\n",
      "File \u001b[0;32m/opt/anaconda3/lib/python3.11/site-packages/sklearn/feature_extraction/text.py:69\u001b[0m, in \u001b[0;36m_preprocess\u001b[0;34m(doc, accent_function, lower)\u001b[0m\n\u001b[1;32m     50\u001b[0m \u001b[38;5;250m\u001b[39m\u001b[38;5;124;03m\"\"\"Chain together an optional series of text preprocessing steps to\u001b[39;00m\n\u001b[1;32m     51\u001b[0m \u001b[38;5;124;03mapply to a document.\u001b[39;00m\n\u001b[1;32m     52\u001b[0m \n\u001b[0;32m   (...)\u001b[0m\n\u001b[1;32m     66\u001b[0m \u001b[38;5;124;03m    preprocessed string\u001b[39;00m\n\u001b[1;32m     67\u001b[0m \u001b[38;5;124;03m\"\"\"\u001b[39;00m\n\u001b[1;32m     68\u001b[0m \u001b[38;5;28;01mif\u001b[39;00m lower:\n\u001b[0;32m---> 69\u001b[0m     doc \u001b[38;5;241m=\u001b[39m doc\u001b[38;5;241m.\u001b[39mlower()\n\u001b[1;32m     70\u001b[0m \u001b[38;5;28;01mif\u001b[39;00m accent_function \u001b[38;5;129;01mis\u001b[39;00m \u001b[38;5;129;01mnot\u001b[39;00m \u001b[38;5;28;01mNone\u001b[39;00m:\n\u001b[1;32m     71\u001b[0m     doc \u001b[38;5;241m=\u001b[39m accent_function(doc)\n",
      "\u001b[0;31mAttributeError\u001b[0m: 'list' object has no attribute 'lower'"
     ]
    }
   ],
   "source": [
    "## your code here \n",
    "ab_small[\"processed\"] = ab_small.name_lower.apply(stopword_stem)\n",
    "metadata_list = ['id', 'neighbourhood_group', 'price_rawdata']\n",
    "dtm_pre = create_dtm(list_of_strings= ab_small.processed,\n",
    "                metadata = ab_small[metadata_list])\n",
    "dtm_pre_termsonly = dtm_pre[[col for col in dtm_pre.columns\n",
    "                             if col not in metadata_list and\n",
    "                             col != \"index\"]]\n",
    "dtm_pre_termsonly.sum().sort_values(ascending = False)"
   ]
  },
  {
   "cell_type": "markdown",
   "metadata": {},
   "source": [
    "# 3. Use gensim to more automatically preprocess/estimate a topic model"
   ]
  },
  {
   "cell_type": "markdown",
   "metadata": {},
   "source": [
    "## 3.1 Creating the objects to feed the LDA modeling function\n",
    "\n",
    "Different outputs described below: \n",
    "- Tokenized and preprocessed text \n",
    "- Dictionary \n",
    "- Corpus "
   ]
  },
  {
   "cell_type": "code",
   "execution_count": 50,
   "metadata": {},
   "outputs": [
    {
     "data": {
      "text/plain": [
       "{0: '!', 1: 'cozy', 2: 'super', 3: 'beautiful', 4: 'bedroom'}"
      ]
     },
     "execution_count": 50,
     "metadata": {},
     "output_type": "execute_result"
    },
    {
     "name": "stdout",
     "output_type": "stream",
     "text": [
      "Filtering out very rare and very common words reduced the length of dictionary from 1047 to 31.\n"
     ]
    },
    {
     "data": {
      "text/plain": [
       "{0: '!', 1: 'cozy', 2: 'beautiful', 3: 'bedroom', 4: 'park'}"
      ]
     },
     "execution_count": 50,
     "metadata": {},
     "output_type": "execute_result"
    },
    {
     "name": "stdout",
     "output_type": "stream",
     "text": [
      "Sample of documents represented in dictionary format (with omitted words noted):\n"
     ]
    },
    {
     "data": {
      "text/plain": [
       "[([(0, 1), (1, 1)], {'super': 1}),\n",
       " ([(2, 1), (3, 1), (4, 1), (5, 1)], {'by': 1, 'prospect': 1}),\n",
       " ([(0, 1), (6, 1), (7, 1)],\n",
       "  {'best': 1,\n",
       "   'ii': 1,\n",
       "   'location': 1,\n",
       "   'on': 1,\n",
       "   'part': 1,\n",
       "   'side': 1,\n",
       "   'upper': 1,\n",
       "   'west': 1}),\n",
       " ([(0, 1)],\n",
       "  {'architecturally': 1, 'former': 1, 'stunning': 1, 'synagogue': 1}),\n",
       " ([(2, 1), (8, 1), (9, 1), (10, 1), (11, 1)], {'bushwick': 1}),\n",
       " ([(4, 1), (8, 1), (9, 1), (12, 1), (13, 2)],\n",
       "  {'bath': 1, 'bed': 1, 'by': 1, 'central': 1, 'college': 1, 'hunter': 1}),\n",
       " ([(9, 1), (11, 1), (14, 1), (15, 1)], {'bohemian': 1, 'brownstone': 1}),\n",
       " ([(16, 1)],\n",
       "  {'fidi': 1, 'huge': 1, 'loft': 1, 'views': 1, 'w': 1, 'water': 1}),\n",
       " ([], {'hillside': 1, 'hotel': 1}),\n",
       " ([(5, 1), (9, 1), (11, 1), (14, 1), (15, 1)], {'airy': 1})]"
      ]
     },
     "execution_count": 50,
     "metadata": {},
     "output_type": "execute_result"
    }
   ],
   "source": [
    "\n",
    "## Step 1: re-tokenize and store in list\n",
    "## here, i'm doing with the raw random sample of text\n",
    "## in activity, you should do with the preprocessed texts\n",
    "text_raw_tokens = [wordpunct_tokenize(one_text) for one_text in \n",
    "                  ab_small.name_lower]\n",
    "\n",
    "\n",
    "## Step 2: use gensim create dictionary - gets all unique words across documents\n",
    "text_raw_dict = corpora.Dictionary(text_raw_tokens)\n",
    "raw_len = len(text_raw_dict) # get length for comparison below\n",
    "\n",
    "### explore first few keys and values\n",
    "### see that key is just an arbitrary counter; value is the word itself\n",
    "{k: text_raw_dict[k] for k in list(text_raw_dict)[:5]}\n",
    "\n",
    "\n",
    "## Step 3: filter out very rare and very common words\n",
    "## here, i'm using the threshold that a word needs to appear in at least\n",
    "## 5% of docs but not more than 95%\n",
    "## this is an integer count of docs so i round\n",
    "lower_bound = round(ab_small.shape[0]*0.05)\n",
    "upper_bound = round(ab_small.shape[0]*0.95)\n",
    "\n",
    "### apply filtering to dictionary\n",
    "text_raw_dict.filter_extremes(no_below = lower_bound,\n",
    "                             no_above = upper_bound)\n",
    "print(f'Filtering out very rare and very common words reduced the \\\n",
    "length of dictionary from {str(raw_len)} to {str(len(text_raw_dict))}.')\n",
    "{k: text_raw_dict[k] for k in list(text_raw_dict)[:5]} # show first five entries after filtering\n",
    "\n",
    "\n",
    "## Step 4: apply dictionary to TOKENIZED texts\n",
    "## this creates a mapping between each word \n",
    "## in a specific listing and the key in the dictionary.\n",
    "## for words that remain in the filtered dictionary,\n",
    "## output is a list where len(list) == n documents\n",
    "## and each element in the list is a list of tuples\n",
    "## containing the mappings\n",
    "corpus_fromdict = [text_raw_dict.doc2bow(one_text) \n",
    "                   for one_text in text_raw_tokens]\n",
    "\n",
    "### can apply doc2bow(one_text, return_missing = True) to print words\n",
    "### eliminated from the listing bc they're not in filtered dictionary.\n",
    "### but feeding that one with missing values to\n",
    "### the lda function can cause errors\n",
    "corpus_fromdict_showmiss = [text_raw_dict.doc2bow(one_text, return_missing = True)\n",
    "                            for one_text in text_raw_tokens]\n",
    "print('Sample of documents represented in dictionary format (with omitted words noted):')\n",
    "corpus_fromdict_showmiss[:10]"
   ]
  },
  {
   "cell_type": "markdown",
   "metadata": {},
   "source": [
    "##  3.2 Estimating the model"
   ]
  },
  {
   "cell_type": "code",
   "execution_count": 51,
   "metadata": {},
   "outputs": [
    {
     "name": "stdout",
     "output_type": "stream",
     "text": [
      "<class 'gensim.models.ldamodel.LdaModel'>\n"
     ]
    }
   ],
   "source": [
    "## Step 5: we're finally ready to estimate the model!\n",
    "## full documentation here - https://radimrehurek.com/gensim/models/ldamodel.html\n",
    "## here, we're feeding the lda function:\n",
    "## (1) the corpus we created from the dictionary,\n",
    "## (2) a parameter we decide on for the number of topics (k),\n",
    "## (3) the dictionary itself,\n",
    "## (4) parameter for number of passes through training data (more means slower), and\n",
    "## (5) parameter that returns, for each word remaining in dict, the topic probabilities.\n",
    "## see documentation for many other arguments you can vary\n",
    "ldamod = gensim.models.ldamodel.LdaModel(corpus_fromdict, \n",
    "                                         num_topics = 5, \n",
    "                                         id2word=text_raw_dict, \n",
    "                                         passes=6, \n",
    "                                         alpha = 'auto',\n",
    "                                         per_word_topics = True)\n",
    "\n",
    "print(type(ldamod))\n",
    "\n"
   ]
  },
  {
   "cell_type": "markdown",
   "metadata": {},
   "source": [
    "## 3.3  Seeing what topics the estimated model discovers"
   ]
  },
  {
   "cell_type": "code",
   "execution_count": 52,
   "metadata": {},
   "outputs": [
    {
     "name": "stdout",
     "output_type": "stream",
     "text": [
      "(0, '0.170*\"-\" + 0.106*\"cozy\" + 0.101*\"in\" + 0.089*\"apartment\" + 0.069*\"to\" + 0.064*\",\" + 0.063*\"room\" + 0.057*\"park\" + 0.057*\"brooklyn\" + 0.036*\"manhattan\"')\n",
      "(1, '0.223*\"in\" + 0.143*\"bedroom\" + 0.123*\"williamsburg\" + 0.097*\"private\" + 0.071*\"room\" + 0.061*\"apt\" + 0.049*\"2\" + 0.044*\"brooklyn\" + 0.041*\"east\" + 0.033*\"cozy\"')\n",
      "(2, '0.126*\"room\" + 0.117*\"in\" + 0.093*\"/\" + 0.064*\"2\" + 0.064*\"studio\" + 0.064*\"&\" + 0.060*\"spacious\" + 0.057*\"large\" + 0.053*\"private\" + 0.038*\"apartment\"')\n",
      "(3, '0.120*\"the\" + 0.114*\"in\" + 0.088*\"1\" + 0.086*\"with\" + 0.081*\"of\" + 0.078*\"sunny\" + 0.054*\"room\" + 0.053*\".\" + 0.047*\"private\" + 0.046*\"bedroom\"')\n",
      "(4, '0.202*\",\" + 0.175*\"!\" + 0.068*\"beautiful\" + 0.056*\"apartment\" + 0.050*\"room\" + 0.040*\"and\" + 0.040*\"apt\" + 0.039*\"private\" + 0.036*\"in\" + 0.035*\"manhattan\"')\n"
     ]
    }
   ],
   "source": [
    "## Post-model 1: explore corpus-wide summary of topics\n",
    "### getting the topics and top words; can retrieve diff top words\n",
    "topics = ldamod.print_topics(num_words = 10)\n",
    "for topic in topics:\n",
    "    print(topic)\n"
   ]
  },
  {
   "cell_type": "code",
   "execution_count": 53,
   "metadata": {
    "scrolled": true
   },
   "outputs": [
    {
     "data": {
      "text/plain": [
       "[['super', 'cozy', '!'],\n",
       " ['beautiful', 'private', 'bedroom', 'by', 'prospect', 'park'],\n",
       " ['best',\n",
       "  'location',\n",
       "  'on',\n",
       "  'the',\n",
       "  'upper',\n",
       "  'west',\n",
       "  'side',\n",
       "  '!',\n",
       "  '-',\n",
       "  'part',\n",
       "  'ii'],\n",
       " ['architecturally', 'stunning', 'former', 'synagogue', '!'],\n",
       " ['large', ',', 'beautiful', 'room', 'near', 'bushwick']]"
      ]
     },
     "execution_count": 53,
     "metadata": {},
     "output_type": "execute_result"
    },
    {
     "data": {
      "text/plain": [
       "[[(0, 0.36190036),\n",
       "  (1, 0.048868716),\n",
       "  (2, 0.059440367),\n",
       "  (3, 0.050311204),\n",
       "  (4, 0.47947934)],\n",
       " [(0, 0.26748157),\n",
       "  (1, 0.6323004),\n",
       "  (2, 0.034811247),\n",
       "  (3, 0.029226415),\n",
       "  (4, 0.03618039)],\n",
       " [(0, 0.2973292),\n",
       "  (1, 0.035815343),\n",
       "  (2, 0.043680485),\n",
       "  (3, 0.28640816),\n",
       "  (4, 0.33676684)],\n",
       " [(0, 0.08714529),\n",
       "  (1, 0.07656039),\n",
       "  (2, 0.093250915),\n",
       "  (3, 0.07893037),\n",
       "  (4, 0.66411304)],\n",
       " [(0, 0.026713686),\n",
       "  (1, 0.023399627),\n",
       "  (2, 0.028966257),\n",
       "  (3, 0.024123458),\n",
       "  (4, 0.89679694)]]"
      ]
     },
     "execution_count": 53,
     "metadata": {},
     "output_type": "execute_result"
    }
   ],
   "source": [
    "    \n",
    "## Post-model 2: explore topics associated with each document\n",
    "### for each item in our original dictionary, get list of topic probabilities\n",
    "l=[ldamod.get_document_topics(item) for item in corpus_fromdict]\n",
    "### print result\n",
    "text_raw_tokens[0:5]\n",
    "l[0:5]"
   ]
  },
  {
   "cell_type": "markdown",
   "metadata": {},
   "source": [
    "### Visualizing "
   ]
  },
  {
   "cell_type": "code",
   "execution_count": 54,
   "metadata": {},
   "outputs": [
    {
     "data": {
      "text/html": [
       "\n",
       "<link rel=\"stylesheet\" type=\"text/css\" href=\"https://cdn.jsdelivr.net/gh/bmabey/pyLDAvis@3.4.0/pyLDAvis/js/ldavis.v1.0.0.css\">\n",
       "\n",
       "\n",
       "<div id=\"ldavis_el8153455494442243707285147\" style=\"background-color:white;\"></div>\n",
       "<script type=\"text/javascript\">\n",
       "\n",
       "var ldavis_el8153455494442243707285147_data = {\"mdsDat\": {\"x\": [-0.0318954957522838, 0.1346453960191478, 0.11994263753006379, -0.15742843592893657, -0.06526410186799105], \"y\": [0.08367018814075099, -0.0686702750024218, 0.08511900840385273, 0.05239262468136623, -0.1525115462235482], \"topics\": [1, 2, 3, 4, 5], \"cluster\": [1, 1, 1, 1, 1], \"Freq\": [23.025398517844657, 21.308225980821714, 20.310947633970915, 17.959551188950332, 17.395876678412385]}, \"tinfo\": {\"Term\": [\"!\", \",\", \"-\", \"williamsburg\", \"the\", \"cozy\", \"bedroom\", \"of\", \"in\", \"with\", \"/\", \"apartment\", \"beautiful\", \"sunny\", \"1\", \"&\", \"2\", \"park\", \"large\", \"spacious\", \"studio\", \"brooklyn\", \"apt\", \".\", \"to\", \"and\", \"private\", \"near\", \"east\", \"manhattan\", \"&\", \"/\", \"large\", \"2\", \"studio\", \"spacious\", \"near\", \"room\", \"park\", \"east\", \"private\", \"manhattan\", \"in\", \"apartment\", \"to\", \"apt\", \"sunny\", \"bedroom\", \"with\", \"1\", \"-\", \"and\", \"!\", \"beautiful\", \"of\", \"cozy\", \".\", \"williamsburg\", \"the\", \",\", \"brooklyn\", \"!\", \"beautiful\", \",\", \"and\", \"near\", \"manhattan\", \"apartment\", \"apt\", \"1\", \"large\", \"private\", \"of\", \"brooklyn\", \".\", \"spacious\", \"/\", \"room\", \"to\", \"east\", \"cozy\", \"sunny\", \"bedroom\", \"in\", \"the\", \"&\", \"2\", \"with\", \"studio\", \"-\", \"park\", \"-\", \"cozy\", \"park\", \"to\", \"apartment\", \"brooklyn\", \"manhattan\", \"and\", \".\", \",\", \"studio\", \"in\", \"room\", \"east\", \"large\", \"near\", \"&\", \"private\", \"sunny\", \"bedroom\", \"1\", \"the\", \"with\", \"beautiful\", \"apt\", \"of\", \"spacious\", \"williamsburg\", \"2\", \"/\", \"williamsburg\", \"bedroom\", \"east\", \"apt\", \"in\", \"private\", \"2\", \"brooklyn\", \".\", \"cozy\", \"room\", \"beautiful\", \"/\", \"to\", \"1\", \"with\", \"spacious\", \"of\", \",\", \"studio\", \"manhattan\", \"sunny\", \"apartment\", \"-\", \"!\", \"near\", \"and\", \"&\", \"large\", \"park\", \"the\", \"of\", \"with\", \"sunny\", \"1\", \".\", \"spacious\", \"studio\", \"brooklyn\", \"in\", \"and\", \"bedroom\", \"private\", \"room\", \"manhattan\", \"park\", \"apt\", \",\", \"2\", \"east\", \"near\", \"to\", \"-\", \"williamsburg\", \"beautiful\", \"/\", \"!\", \"large\", \"&\", \"cozy\", \"apartment\"], \"Freq\": [123.0, 204.0, 132.0, 73.0, 75.0, 98.0, 157.0, 58.0, 372.0, 65.0, 96.0, 127.0, 57.0, 67.0, 83.0, 59.0, 84.0, 69.0, 62.0, 86.0, 84.0, 96.0, 92.0, 72.0, 88.0, 56.0, 165.0, 53.0, 52.0, 76.0, 47.57080265724347, 69.69166405763266, 42.68578361271886, 47.939098886843006, 47.871080689372725, 44.9074104148815, 22.36678627484301, 93.88879468835835, 24.425700890748566, 13.010827924751739, 39.83145866123384, 18.44391411123654, 87.11001255645218, 28.678808043196295, 19.56345691254871, 19.67006700496062, 12.800706927056336, 25.81925989870237, 9.498711965721888, 9.920548701956905, 12.65403800038965, 2.578644373001946, 1.3963122974600948, 0.6092697063521985, 0.573154573826878, 0.5385065542580827, 0.3188505161435339, 0.3089546664766032, 0.24996332035499522, 0.6082452103830306, 0.26178020849123107, 120.81305421362642, 46.93540626039059, 139.10976822658964, 27.37256610043828, 22.150008502336906, 24.48936685860069, 38.96383237144566, 27.341872351392183, 16.439983878737507, 10.90690596731571, 27.21114238288841, 9.542362106064498, 15.700503124474148, 10.793798293665516, 12.645161264117242, 13.910486514571922, 34.64432353957069, 10.989850823330261, 6.266852759958021, 9.03465862342922, 5.098612753046481, 10.711079051361702, 24.872812465192098, 4.7606482351661095, 3.10972504903054, 4.391921834184543, 3.2677105678945417, 3.326945415510209, 4.482078615653467, 0.5146027788344937, 111.61465278272502, 69.62120700947278, 37.25285222165737, 45.24930358169802, 58.429377762068356, 37.19835216148143, 23.71392511785588, 16.543022965050863, 15.577956740741035, 42.115351609805494, 16.93816555666509, 66.64882891865227, 41.5535044654771, 8.153363277830456, 8.61980284424563, 7.331827807151758, 7.778736633187531, 15.304808213136067, 5.438166995843159, 12.230750430048282, 2.8661056693163633, 2.4299477264075264, 1.1421370435849714, 0.742490486294188, 0.9004062977412269, 0.5533874179492354, 0.5567573314950687, 0.41714504102221833, 0.3622397242634852, 0.3274138889624317, 71.29118071436281, 83.38375178324202, 23.630462729215665, 35.428353454872564, 129.68659502092464, 56.19830637641719, 28.307310200839304, 25.60245223944779, 15.4837256654223, 18.97332013512025, 41.57055209603153, 8.766422739780543, 11.286731943464021, 10.101796588796272, 4.676777584644612, 3.211365196282696, 3.6752367690119137, 1.8610175202510768, 2.555405740263049, 0.903610873632949, 0.600232852079047, 0.4985116091870674, 0.9007767941055785, 0.8785281524366951, 0.7001304646820765, 0.28771653239797185, 0.2859736242785947, 0.2945853660051687, 0.2232924024956413, 0.22287153999282827, 67.54117876547306, 45.6925184469113, 48.22874807060625, 44.0531513716889, 49.74386132530192, 30.077749296373465, 24.91326674089329, 15.794332251605137, 17.924692509280934, 64.49923550450761, 9.31241936656742, 25.77318856723173, 26.623818014634573, 30.611146960249265, 9.388677955435696, 7.279957060204411, 9.130627102087063, 20.04894040927422, 3.246721411741047, 1.9279172710216903, 1.6704992733877804, 2.126083758797566, 2.6931662963149186, 1.3809542714349425, 0.8517032293317398, 1.2869629972218186, 0.6865194260985248, 0.27622485847464534, 0.251584892127137, 0.20512439133220936, 0.211435270762295], \"Total\": [123.0, 204.0, 132.0, 73.0, 75.0, 98.0, 157.0, 58.0, 372.0, 65.0, 96.0, 127.0, 57.0, 67.0, 83.0, 59.0, 84.0, 69.0, 62.0, 86.0, 84.0, 96.0, 92.0, 72.0, 88.0, 56.0, 165.0, 53.0, 52.0, 76.0, 59.00543459759384, 96.50325940185284, 62.71200968525049, 84.24729205787139, 84.83413478678611, 86.69783252039902, 53.806838390117434, 242.26832174968692, 69.69598449143767, 52.98942396277757, 165.16953364831008, 76.63611689520785, 372.8174844657288, 127.18423024157819, 88.03049166517083, 92.47132621105365, 67.88914965682194, 157.9180297305861, 65.34867284409034, 83.6472771599573, 132.32246384751977, 56.09262642933711, 123.85550330616077, 57.905292422149266, 58.222440065002985, 98.37281671361254, 72.25208051234586, 73.77371391832826, 75.20458002764032, 204.4377111963154, 96.68778024317552, 123.85550330616077, 57.905292422149266, 204.4377111963154, 56.09262642933711, 53.806838390117434, 76.63611689520785, 127.18423024157819, 92.47132621105365, 83.6472771599573, 62.71200968525049, 165.16953364831008, 58.222440065002985, 96.68778024317552, 72.25208051234586, 86.69783252039902, 96.50325940185284, 242.26832174968692, 88.03049166517083, 52.98942396277757, 98.37281671361254, 67.88914965682194, 157.9180297305861, 372.8174844657288, 75.20458002764032, 59.00543459759384, 84.24729205787139, 65.34867284409034, 84.83413478678611, 132.32246384751977, 69.69598449143767, 132.32246384751977, 98.37281671361254, 69.69598449143767, 88.03049166517083, 127.18423024157819, 96.68778024317552, 76.63611689520785, 56.09262642933711, 72.25208051234586, 204.4377111963154, 84.83413478678611, 372.8174844657288, 242.26832174968692, 52.98942396277757, 62.71200968525049, 53.806838390117434, 59.00543459759384, 165.16953364831008, 67.88914965682194, 157.9180297305861, 83.6472771599573, 75.20458002764032, 65.34867284409034, 57.905292422149266, 92.47132621105365, 58.222440065002985, 86.69783252039902, 73.77371391832826, 84.24729205787139, 96.50325940185284, 73.77371391832826, 157.9180297305861, 52.98942396277757, 92.47132621105365, 372.8174844657288, 165.16953364831008, 84.24729205787139, 96.68778024317552, 72.25208051234586, 98.37281671361254, 242.26832174968692, 57.905292422149266, 96.50325940185284, 88.03049166517083, 83.6472771599573, 65.34867284409034, 86.69783252039902, 58.222440065002985, 204.4377111963154, 84.83413478678611, 76.63611689520785, 67.88914965682194, 127.18423024157819, 132.32246384751977, 123.85550330616077, 53.806838390117434, 56.09262642933711, 59.00543459759384, 62.71200968525049, 69.69598449143767, 75.20458002764032, 58.222440065002985, 65.34867284409034, 67.88914965682194, 83.6472771599573, 72.25208051234586, 86.69783252039902, 84.83413478678611, 96.68778024317552, 372.8174844657288, 56.09262642933711, 157.9180297305861, 165.16953364831008, 242.26832174968692, 76.63611689520785, 69.69598449143767, 92.47132621105365, 204.4377111963154, 84.24729205787139, 52.98942396277757, 53.806838390117434, 88.03049166517083, 132.32246384751977, 73.77371391832826, 57.905292422149266, 96.50325940185284, 123.85550330616077, 62.71200968525049, 59.00543459759384, 98.37281671361254, 127.18423024157819], \"Category\": [\"Default\", \"Default\", \"Default\", \"Default\", \"Default\", \"Default\", \"Default\", \"Default\", \"Default\", \"Default\", \"Default\", \"Default\", \"Default\", \"Default\", \"Default\", \"Default\", \"Default\", \"Default\", \"Default\", \"Default\", \"Default\", \"Default\", \"Default\", \"Default\", \"Default\", \"Default\", \"Default\", \"Default\", \"Default\", \"Default\", \"Topic1\", \"Topic1\", \"Topic1\", \"Topic1\", \"Topic1\", \"Topic1\", \"Topic1\", \"Topic1\", \"Topic1\", \"Topic1\", \"Topic1\", \"Topic1\", \"Topic1\", \"Topic1\", \"Topic1\", \"Topic1\", \"Topic1\", \"Topic1\", \"Topic1\", \"Topic1\", \"Topic1\", \"Topic1\", \"Topic1\", \"Topic1\", \"Topic1\", \"Topic1\", \"Topic1\", \"Topic1\", \"Topic1\", \"Topic1\", \"Topic1\", \"Topic2\", \"Topic2\", \"Topic2\", \"Topic2\", \"Topic2\", \"Topic2\", \"Topic2\", \"Topic2\", \"Topic2\", \"Topic2\", \"Topic2\", \"Topic2\", \"Topic2\", \"Topic2\", \"Topic2\", \"Topic2\", \"Topic2\", \"Topic2\", \"Topic2\", \"Topic2\", \"Topic2\", \"Topic2\", \"Topic2\", \"Topic2\", \"Topic2\", \"Topic2\", \"Topic2\", \"Topic2\", \"Topic2\", \"Topic2\", \"Topic3\", \"Topic3\", \"Topic3\", \"Topic3\", \"Topic3\", \"Topic3\", \"Topic3\", \"Topic3\", \"Topic3\", \"Topic3\", \"Topic3\", \"Topic3\", \"Topic3\", \"Topic3\", \"Topic3\", \"Topic3\", \"Topic3\", \"Topic3\", \"Topic3\", \"Topic3\", \"Topic3\", \"Topic3\", \"Topic3\", \"Topic3\", \"Topic3\", \"Topic3\", \"Topic3\", \"Topic3\", \"Topic3\", \"Topic3\", \"Topic4\", \"Topic4\", \"Topic4\", \"Topic4\", \"Topic4\", \"Topic4\", \"Topic4\", \"Topic4\", \"Topic4\", \"Topic4\", \"Topic4\", \"Topic4\", \"Topic4\", \"Topic4\", \"Topic4\", \"Topic4\", \"Topic4\", \"Topic4\", \"Topic4\", \"Topic4\", \"Topic4\", \"Topic4\", \"Topic4\", \"Topic4\", \"Topic4\", \"Topic4\", \"Topic4\", \"Topic4\", \"Topic4\", \"Topic4\", \"Topic5\", \"Topic5\", \"Topic5\", \"Topic5\", \"Topic5\", \"Topic5\", \"Topic5\", \"Topic5\", \"Topic5\", \"Topic5\", \"Topic5\", \"Topic5\", \"Topic5\", \"Topic5\", \"Topic5\", \"Topic5\", \"Topic5\", \"Topic5\", \"Topic5\", \"Topic5\", \"Topic5\", \"Topic5\", \"Topic5\", \"Topic5\", \"Topic5\", \"Topic5\", \"Topic5\", \"Topic5\", \"Topic5\", \"Topic5\", \"Topic5\"], \"logprob\": [30.0, 29.0, 28.0, 27.0, 26.0, 25.0, 24.0, 23.0, 22.0, 21.0, 20.0, 19.0, 18.0, 17.0, 16.0, 15.0, 14.0, 13.0, 12.0, 11.0, 10.0, 9.0, 8.0, 7.0, 6.0, 5.0, 4.0, 3.0, 2.0, 1.0, -2.7522, -2.3704, -2.8606, -2.7445, -2.7459, -2.8098, -3.5069, -2.0723, -3.4188, -4.0487, -2.9298, -3.6997, -2.1473, -3.2583, -3.6408, -3.6353, -4.0649, -3.3633, -4.3633, -4.3198, -4.0765, -5.6672, -6.2806, -7.1099, -7.171, -7.2334, -7.7575, -7.789, -8.0009, -7.1116, -7.9547, -1.7427, -2.6882, -1.6017, -3.2274, -3.4391, -3.3387, -2.8743, -3.2285, -3.7372, -4.1475, -3.2333, -4.2812, -3.7833, -4.158, -3.9997, -3.9043, -2.9918, -4.14, -4.7017, -4.3359, -4.908, -4.1657, -3.3232, -4.9766, -5.4024, -5.0572, -5.3529, -5.3349, -5.0369, -7.2013, -1.774, -2.2459, -2.8713, -2.6768, -2.4212, -2.8727, -3.3229, -3.683, -3.7432, -2.7486, -3.6594, -2.2896, -2.762, -4.3906, -4.3349, -4.4968, -4.4376, -3.7608, -4.7956, -3.9851, -5.4361, -5.6011, -6.3561, -6.7868, -6.5939, -7.0807, -7.0746, -7.3633, -7.5045, -7.6055, -2.0992, -1.9425, -3.2034, -2.7985, -1.5009, -2.3371, -3.0229, -3.1233, -3.6262, -3.4229, -2.6386, -4.195, -3.9423, -4.0533, -4.8234, -5.1993, -5.0644, -5.7448, -5.4278, -6.4673, -6.8764, -7.0621, -6.4705, -6.4955, -6.7225, -7.6118, -7.6178, -7.5882, -7.8652, -7.8671, -2.1213, -2.5121, -2.4581, -2.5487, -2.4272, -2.9303, -3.1187, -3.5744, -3.4479, -2.1674, -4.1027, -3.0847, -3.0523, -2.9127, -4.0946, -4.349, -4.1224, -3.3359, -5.1564, -5.6776, -5.821, -5.5798, -5.3434, -6.0113, -6.4946, -6.0818, -6.7102, -7.6206, -7.7141, -7.9182, -7.8879], \"loglift\": [30.0, 29.0, 28.0, 27.0, 26.0, 25.0, 24.0, 23.0, 22.0, 21.0, 20.0, 19.0, 18.0, 17.0, 16.0, 15.0, 14.0, 13.0, 12.0, 11.0, 10.0, 9.0, 8.0, 7.0, 6.0, 5.0, 4.0, 3.0, 2.0, 1.0, 1.2532, 1.1431, 1.0839, 0.9047, 0.8964, 0.8107, 0.5907, 0.5206, 0.4201, 0.0643, 0.0463, 0.0442, 0.0147, -0.0209, -0.0354, -0.0792, -0.1998, -0.3424, -0.46, -0.6634, -0.8787, -1.6112, -3.0167, -3.0857, -3.1523, -3.7391, -3.9546, -4.007, -4.2381, -4.3489, -4.4432, 1.5212, 1.336, 1.1611, 0.8286, 0.6585, 0.4052, 0.3631, 0.3276, -0.0808, -0.2031, -0.2573, -0.2625, -0.2717, -0.3551, -0.3791, -0.3909, -0.3988, -0.5346, -0.5887, -0.8416, -1.0428, -1.1447, -1.1612, -1.2138, -1.397, -1.4079, -1.4496, -1.6926, -1.8391, -3.3624, 1.4238, 1.2483, 0.9676, 0.9285, 0.8162, 0.6388, 0.421, 0.373, 0.0597, 0.0142, -0.0171, -0.1276, -0.1691, -0.2777, -0.3905, -0.3992, -0.4322, -0.7848, -0.9304, -0.9641, -1.7796, -1.8383, -2.4528, -2.7625, -3.0378, -3.062, -3.454, -3.5813, -3.8552, -4.0921, 1.6828, 1.0784, 0.9095, 0.7577, 0.6611, 0.639, 0.6264, 0.3882, 0.1767, 0.0713, -0.0456, -0.1708, -0.4289, -0.4479, -1.167, -1.296, -1.4438, -1.7261, -2.665, -2.825, -3.1325, -3.197, -3.2331, -3.2977, -3.4586, -3.5141, -3.5618, -3.5828, -3.9208, -4.0283, 1.6415, 1.5066, 1.4452, 1.3165, 1.2292, 0.8726, 0.5019, 0.0679, 0.0636, -0.0055, -0.0467, -0.0638, -0.0762, -0.3197, -0.3506, -0.5101, -0.5663, -0.5732, -1.5072, -1.5647, -1.7233, -1.9745, -2.1456, -2.2293, -2.4704, -2.5684, -3.4463, -3.6762, -3.7087, -4.424, -4.6505]}, \"token.table\": {\"Topic\": [1, 2, 4, 5, 1, 2, 3, 1, 2, 3, 4, 5, 1, 2, 3, 4, 5, 2, 3, 4, 5, 1, 2, 4, 5, 1, 2, 3, 4, 5, 1, 2, 4, 5, 1, 2, 3, 5, 1, 2, 3, 4, 1, 2, 3, 4, 5, 1, 2, 3, 4, 5, 1, 2, 3, 4, 5, 2, 3, 4, 5, 1, 2, 3, 4, 1, 2, 3, 4, 5, 1, 2, 3, 4, 5, 1, 2, 3, 1, 2, 3, 4, 5, 1, 2, 3, 5, 1, 2, 3, 4, 5, 1, 2, 3, 5, 1, 2, 3, 4, 5, 1, 2, 3, 4, 5, 1, 2, 3, 4, 5, 1, 2, 3, 4, 5, 1, 2, 3, 5, 2, 3, 5, 1, 2, 3, 4, 5, 4, 5, 1, 2, 3, 4, 5], \"Freq\": [0.008073924640458495, 0.9769448814954779, 0.008073924640458495, 0.008073924640458495, 0.8134843905031991, 0.05084277440644994, 0.13558073175053317, 0.004891465445138593, 0.6799136968742644, 0.2054415486958209, 0.014674396335415778, 0.09782930890277186, 0.09824484537244105, 0.03022918319152032, 0.846417129362569, 0.00755729579788008, 0.02267188739364024, 0.15224475090541384, 0.22144691040787468, 0.2076064785073825, 0.415212957014765, 0.725364101004199, 0.14507282020083978, 0.11398578730065984, 0.010362344300059985, 0.11954961762684954, 0.19127938820295926, 0.035864885288054864, 0.05977480881342477, 0.5977480881342477, 0.5697512504856264, 0.047479270873802194, 0.33235489611661534, 0.03560945315535165, 0.05348296542646761, 0.4813466888382085, 0.3030701374166498, 0.16044889627940284, 0.22801568987693194, 0.30664178983449464, 0.4560313797538639, 0.007862609995756274, 0.2162832611955043, 0.2919824026139308, 0.010814163059775216, 0.37849570709213254, 0.09732746753797694, 0.017269578620027683, 0.8116701951413011, 0.017269578620027683, 0.15542620758024916, 0.017269578620027683, 0.1646423783551311, 0.06965639084255547, 0.07598879001006051, 0.5255891309029185, 0.1646423783551311, 0.16548109760880897, 0.38267503822037074, 0.2689067836143146, 0.1861662348099101, 0.010165409850073175, 0.09148868865065858, 0.7115786895051223, 0.19314278715139033, 0.24533197434136766, 0.11323014200370815, 0.15097352267161088, 0.4529205680148326, 0.03774338066790272, 0.23335815412379746, 0.06705694084017168, 0.1797126014516601, 0.3486960923688927, 0.1716657685508395, 0.685674087241273, 0.175404999061721, 0.14351318105049898, 0.2348762010556091, 0.31316826807414544, 0.31316826807414544, 0.013048677836422728, 0.11743810052780455, 0.4088699625964399, 0.4088699625964399, 0.13009498809886724, 0.037169996599676354, 0.017175508255640622, 0.1717550825564062, 0.017175508255640622, 0.034351016511281245, 0.7900733797594686, 0.3443526937043046, 0.014348028904346026, 0.5308770694608029, 0.10043620233042218, 0.2421754128407885, 0.16346840366753224, 0.09081577981529569, 0.3390455779771039, 0.16346840366753224, 0.38799955075068115, 0.14446791783270044, 0.1733615013992405, 0.1733615013992405, 0.12795729865182037, 0.5190441178493362, 0.14994607848980823, 0.011534313729985248, 0.046137254919940994, 0.2883578432496312, 0.5658099787383764, 0.03536312367114852, 0.20039103413650827, 0.01178770789038284, 0.18860332624612544, 0.19148862617538584, 0.07364947160591763, 0.07364947160591763, 0.6481153501320751, 0.06648531243924671, 0.026594124975698685, 0.9042002491737553, 0.22719400541429646, 0.12495670297786304, 0.511186512182167, 0.11359700270714823, 0.022719400541429645, 0.9624024090559015, 0.013554963507829598, 0.13772276632874103, 0.04590758877624702, 0.015302529592082338, 0.04590758877624702, 0.7345214204199523], \"Term\": [\"!\", \"!\", \"!\", \"!\", \"&\", \"&\", \"&\", \",\", \",\", \",\", \",\", \",\", \"-\", \"-\", \"-\", \"-\", \"-\", \".\", \".\", \".\", \".\", \"/\", \"/\", \"/\", \"/\", \"1\", \"1\", \"1\", \"1\", \"1\", \"2\", \"2\", \"2\", \"2\", \"and\", \"and\", \"and\", \"and\", \"apartment\", \"apartment\", \"apartment\", \"apartment\", \"apt\", \"apt\", \"apt\", \"apt\", \"apt\", \"beautiful\", \"beautiful\", \"beautiful\", \"beautiful\", \"beautiful\", \"bedroom\", \"bedroom\", \"bedroom\", \"bedroom\", \"bedroom\", \"brooklyn\", \"brooklyn\", \"brooklyn\", \"brooklyn\", \"cozy\", \"cozy\", \"cozy\", \"cozy\", \"east\", \"east\", \"east\", \"east\", \"east\", \"in\", \"in\", \"in\", \"in\", \"in\", \"large\", \"large\", \"large\", \"manhattan\", \"manhattan\", \"manhattan\", \"manhattan\", \"manhattan\", \"near\", \"near\", \"near\", \"near\", \"of\", \"of\", \"of\", \"of\", \"of\", \"park\", \"park\", \"park\", \"park\", \"private\", \"private\", \"private\", \"private\", \"private\", \"room\", \"room\", \"room\", \"room\", \"room\", \"spacious\", \"spacious\", \"spacious\", \"spacious\", \"spacious\", \"studio\", \"studio\", \"studio\", \"studio\", \"studio\", \"sunny\", \"sunny\", \"sunny\", \"sunny\", \"the\", \"the\", \"the\", \"to\", \"to\", \"to\", \"to\", \"to\", \"williamsburg\", \"williamsburg\", \"with\", \"with\", \"with\", \"with\", \"with\"]}, \"R\": 30, \"lambda.step\": 0.01, \"plot.opts\": {\"xlab\": \"PC1\", \"ylab\": \"PC2\"}, \"topic.order\": [3, 5, 1, 2, 4]};\n",
       "\n",
       "function LDAvis_load_lib(url, callback){\n",
       "  var s = document.createElement('script');\n",
       "  s.src = url;\n",
       "  s.async = true;\n",
       "  s.onreadystatechange = s.onload = callback;\n",
       "  s.onerror = function(){console.warn(\"failed to load library \" + url);};\n",
       "  document.getElementsByTagName(\"head\")[0].appendChild(s);\n",
       "}\n",
       "\n",
       "if(typeof(LDAvis) !== \"undefined\"){\n",
       "   // already loaded: just create the visualization\n",
       "   !function(LDAvis){\n",
       "       new LDAvis(\"#\" + \"ldavis_el8153455494442243707285147\", ldavis_el8153455494442243707285147_data);\n",
       "   }(LDAvis);\n",
       "}else if(typeof define === \"function\" && define.amd){\n",
       "   // require.js is available: use it to load d3/LDAvis\n",
       "   require.config({paths: {d3: \"https://d3js.org/d3.v5\"}});\n",
       "   require([\"d3\"], function(d3){\n",
       "      window.d3 = d3;\n",
       "      LDAvis_load_lib(\"https://cdn.jsdelivr.net/gh/bmabey/pyLDAvis@3.4.0/pyLDAvis/js/ldavis.v3.0.0.js\", function(){\n",
       "        new LDAvis(\"#\" + \"ldavis_el8153455494442243707285147\", ldavis_el8153455494442243707285147_data);\n",
       "      });\n",
       "    });\n",
       "}else{\n",
       "    // require.js not available: dynamically load d3 & LDAvis\n",
       "    LDAvis_load_lib(\"https://d3js.org/d3.v5.js\", function(){\n",
       "         LDAvis_load_lib(\"https://cdn.jsdelivr.net/gh/bmabey/pyLDAvis@3.4.0/pyLDAvis/js/ldavis.v3.0.0.js\", function(){\n",
       "                 new LDAvis(\"#\" + \"ldavis_el8153455494442243707285147\", ldavis_el8153455494442243707285147_data);\n",
       "            })\n",
       "         });\n",
       "}\n",
       "</script>"
      ],
      "text/plain": [
       "<IPython.core.display.HTML object>"
      ]
     },
     "execution_count": 54,
     "metadata": {},
     "output_type": "execute_result"
    }
   ],
   "source": [
    "lda_display = gensimvis.prepare(ldamod, corpus_fromdict, text_raw_dict)\n",
    "pyLDAvis.display(lda_display)"
   ]
  },
  {
   "cell_type": "markdown",
   "metadata": {},
   "source": [
    "## 3.4 Activity 3\n",
    "\n",
    "- Preprocess the texts if you haven't already\n",
    "- Run the topic model with preprocessed texts\n",
    "- Play around with other parameters like `n_topics` to find a configuration that produces useful topics\n",
    "\n",
    "If you get stuck on the preprocessing part, you can use below function and example code for applying it. Then continue as above (start with tokenizing)."
   ]
  },
  {
   "cell_type": "code",
   "execution_count": 63,
   "metadata": {
    "scrolled": true
   },
   "outputs": [
    {
     "data": {
      "text/plain": [
       "{0: 'cozi', 1: 'super', 2: 'beauti', 3: 'bedroom', 4: 'park'}"
      ]
     },
     "execution_count": 63,
     "metadata": {},
     "output_type": "execute_result"
    },
    {
     "name": "stdout",
     "output_type": "stream",
     "text": [
      "Filtering out very rare and very common words reduced the length of dictionary from 782 to 20.\n"
     ]
    },
    {
     "data": {
      "text/plain": [
       "{0: 'cozi', 1: 'beauti', 2: 'bedroom', 3: 'park', 4: 'privat'}"
      ]
     },
     "execution_count": 63,
     "metadata": {},
     "output_type": "execute_result"
    },
    {
     "name": "stdout",
     "output_type": "stream",
     "text": [
      "Sample of documents represented in dictionary format (with omitted words noted):\n"
     ]
    },
    {
     "data": {
      "text/plain": [
       "[([(0, 1)], {'super': 1}),\n",
       " ([(1, 1), (2, 1), (3, 1), (4, 1)], {'prospect': 1}),\n",
       " ([(5, 1)],\n",
       "  {'best': 1, 'locat': 1, 'part': 1, 'side': 1, 'upper': 1, 'west': 1}),\n",
       " ([], {'architectur': 1, 'former': 1, 'stun': 1, 'synagogu': 1}),\n",
       " ([(1, 1), (6, 1), (7, 1), (8, 1)], {'bushwick': 1}),\n",
       " ([(3, 1), (6, 1)],\n",
       "  {'bath': 1, 'bed': 1, 'central': 1, 'colleg': 1, 'hunter': 1}),\n",
       " ([(6, 1), (8, 1), (9, 1)], {'bohemian': 1, 'brownston': 1}),\n",
       " ([(10, 1)], {'fidi': 1, 'huge': 1, 'loft': 1, 'view': 1, 'water': 1}),\n",
       " ([], {'hillsid': 1, 'hotel': 1}),\n",
       " ([(4, 1), (6, 1), (8, 1), (9, 1)], {'airi': 1})]"
      ]
     },
     "execution_count": 63,
     "metadata": {},
     "output_type": "execute_result"
    },
    {
     "data": {
      "text/html": [
       "\n",
       "<link rel=\"stylesheet\" type=\"text/css\" href=\"https://cdn.jsdelivr.net/gh/bmabey/pyLDAvis@3.4.0/pyLDAvis/js/ldavis.v1.0.0.css\">\n",
       "\n",
       "\n",
       "<div id=\"ldavis_el8153455645783049511455167\" style=\"background-color:white;\"></div>\n",
       "<script type=\"text/javascript\">\n",
       "\n",
       "var ldavis_el8153455645783049511455167_data = {\"mdsDat\": {\"x\": [-0.25296413564693887, -0.1778312291559241, 0.14660948928609885, 0.06529290091113732, 0.2188929746056266], \"y\": [0.04925834776091182, -0.0995487196575952, -0.16929582407715946, 0.1854672100116462, 0.03411898596219645], \"topics\": [1, 2, 3, 4, 5], \"cluster\": [1, 1, 1, 1, 1], \"Freq\": [25.802625327166712, 23.111988852963307, 18.957439802673523, 16.425075209506016, 15.702870807690445]}, \"tinfo\": {\"Term\": [\"bedroom\", \"room\", \"with\", \"apart\", \"apt\", \"studio\", \"manhattan\", \"larg\", \"sunni\", \"spaciou\", \"near\", \"brooklyn\", \"cozi\", \"park\", \"williamsburg\", \"east\", \"beauti\", \"the\", \"and\", \"privat\", \"studio\", \"cozi\", \"williamsburg\", \"and\", \"privat\", \"room\", \"east\", \"the\", \"sunni\", \"spaciou\", \"with\", \"apart\", \"brooklyn\", \"larg\", \"park\", \"manhattan\", \"near\", \"beauti\", \"bedroom\", \"apt\", \"near\", \"manhattan\", \"room\", \"the\", \"park\", \"beauti\", \"larg\", \"spaciou\", \"privat\", \"brooklyn\", \"and\", \"cozi\", \"with\", \"studio\", \"east\", \"sunni\", \"apt\", \"apart\", \"williamsburg\", \"bedroom\", \"bedroom\", \"brooklyn\", \"park\", \"apart\", \"the\", \"privat\", \"sunni\", \"beauti\", \"manhattan\", \"apt\", \"cozi\", \"east\", \"studio\", \"spaciou\", \"near\", \"williamsburg\", \"with\", \"larg\", \"and\", \"room\", \"apt\", \"spaciou\", \"east\", \"apart\", \"williamsburg\", \"and\", \"beauti\", \"brooklyn\", \"park\", \"privat\", \"room\", \"larg\", \"cozi\", \"near\", \"bedroom\", \"manhattan\", \"studio\", \"with\", \"the\", \"sunni\", \"with\", \"larg\", \"sunni\", \"beauti\", \"apt\", \"apart\", \"bedroom\", \"privat\", \"brooklyn\", \"spaciou\", \"williamsburg\", \"and\", \"near\", \"room\", \"manhattan\", \"studio\", \"park\", \"east\", \"the\", \"cozi\"], \"Freq\": [158.0, 237.0, 70.0, 133.0, 93.0, 85.0, 75.0, 68.0, 72.0, 88.0, 53.0, 94.0, 95.0, 72.0, 66.0, 51.0, 62.0, 73.0, 56.0, 162.0, 78.25184462682027, 74.43140444348177, 51.957690670581584, 38.97950801058761, 86.3644868194829, 86.8276762615013, 16.387186200491634, 20.185765365186555, 11.665959226100002, 8.261521685668855, 3.9708469246428333, 2.161646772868823, 1.0800417681964243, 0.4913977068381761, 0.505102735978709, 0.3674177593178284, 0.2568616832984499, 0.20008130755751594, 0.47422819703141117, 0.20447010802169555, 50.979204994096555, 67.92784217684456, 134.57294688521978, 38.02617988072397, 19.40015992353463, 16.640780899494523, 15.036425848609804, 16.410660322328916, 28.532766007318806, 15.152065568798218, 8.769821457266705, 11.582722554540492, 2.875588303737932, 2.859157307703314, 0.8926434003174795, 1.182498117619261, 0.5137840294818816, 0.6688106936502064, 0.28059040979876093, 0.35181015463500587, 134.5600862892955, 62.41729849872645, 46.58389551371826, 27.236573050440814, 14.489653141263073, 21.891488869356028, 9.701031492343272, 6.1029342173918755, 6.182615745095789, 7.344496069720855, 6.487110721710887, 3.322432755773116, 3.2494824111043763, 2.4005766482829785, 0.8031114252284837, 0.9766432309226024, 0.29775491110206564, 0.2598393107128934, 0.20216430781623781, 0.37407551575349923, 65.60919308781922, 55.849183618334145, 30.625989906504245, 78.45671561190686, 12.387362720424555, 7.7859221821521345, 7.633747268301451, 8.002003057171034, 5.207974161706683, 10.739980291418426, 14.07017827101332, 3.739048540791658, 2.179552916178477, 0.8410249826933964, 2.4605057900236638, 0.5319444412330147, 0.5413248644817295, 0.3999600652278038, 0.20924143721680805, 0.20655877483782115, 63.135591975324, 48.50815430849903, 49.51889371121967, 31.97964384414619, 19.80030763059899, 24.906281474144066, 21.11536042781059, 15.170275459359221, 7.954790043591416, 5.46589091471141, 0.8608070825085382, 0.6920887689504424, 0.5862292970845299, 1.913017086215793, 0.48847062994114726, 0.5400129363654222, 0.43324400228352383, 0.2226179805411607, 0.30122342680092995, 0.3648564885854696], \"Total\": [158.0, 237.0, 70.0, 133.0, 93.0, 85.0, 75.0, 68.0, 72.0, 88.0, 53.0, 94.0, 95.0, 72.0, 66.0, 51.0, 62.0, 73.0, 56.0, 162.0, 85.44182214647512, 95.04564712449711, 66.46309411423606, 56.429504726773125, 162.6989974469354, 237.7578940197037, 51.450870243627634, 73.21206325119134, 72.27494132212003, 88.3878331893263, 70.67974218003464, 133.43002760301079, 94.60619893648355, 68.03486571545156, 72.13037633722182, 75.49829075243234, 53.46643238240142, 62.557187536891554, 158.96199085879618, 93.47225092564265, 53.46643238240142, 75.49829075243234, 237.7578940197037, 73.21206325119134, 72.13037633722182, 62.557187536891554, 68.03486571545156, 88.3878331893263, 162.6989974469354, 94.60619893648355, 56.429504726773125, 95.04564712449711, 70.67974218003464, 85.44182214647512, 51.450870243627634, 72.27494132212003, 93.47225092564265, 133.43002760301079, 66.46309411423606, 158.96199085879618, 158.96199085879618, 94.60619893648355, 72.13037633722182, 133.43002760301079, 73.21206325119134, 162.6989974469354, 72.27494132212003, 62.557187536891554, 75.49829075243234, 93.47225092564265, 95.04564712449711, 51.450870243627634, 85.44182214647512, 88.3878331893263, 53.46643238240142, 66.46309411423606, 70.67974218003464, 68.03486571545156, 56.429504726773125, 237.7578940197037, 93.47225092564265, 88.3878331893263, 51.450870243627634, 133.43002760301079, 66.46309411423606, 56.429504726773125, 62.557187536891554, 94.60619893648355, 72.13037633722182, 162.6989974469354, 237.7578940197037, 68.03486571545156, 95.04564712449711, 53.46643238240142, 158.96199085879618, 75.49829075243234, 85.44182214647512, 70.67974218003464, 73.21206325119134, 72.27494132212003, 70.67974218003464, 68.03486571545156, 72.27494132212003, 62.557187536891554, 93.47225092564265, 133.43002760301079, 158.96199085879618, 162.6989974469354, 94.60619893648355, 88.3878331893263, 66.46309411423606, 56.429504726773125, 53.46643238240142, 237.7578940197037, 75.49829075243234, 85.44182214647512, 72.13037633722182, 51.450870243627634, 73.21206325119134, 95.04564712449711], \"Category\": [\"Default\", \"Default\", \"Default\", \"Default\", \"Default\", \"Default\", \"Default\", \"Default\", \"Default\", \"Default\", \"Default\", \"Default\", \"Default\", \"Default\", \"Default\", \"Default\", \"Default\", \"Default\", \"Default\", \"Default\", \"Topic1\", \"Topic1\", \"Topic1\", \"Topic1\", \"Topic1\", \"Topic1\", \"Topic1\", \"Topic1\", \"Topic1\", \"Topic1\", \"Topic1\", \"Topic1\", \"Topic1\", \"Topic1\", \"Topic1\", \"Topic1\", \"Topic1\", \"Topic1\", \"Topic1\", \"Topic1\", \"Topic2\", \"Topic2\", \"Topic2\", \"Topic2\", \"Topic2\", \"Topic2\", \"Topic2\", \"Topic2\", \"Topic2\", \"Topic2\", \"Topic2\", \"Topic2\", \"Topic2\", \"Topic2\", \"Topic2\", \"Topic2\", \"Topic2\", \"Topic2\", \"Topic2\", \"Topic2\", \"Topic3\", \"Topic3\", \"Topic3\", \"Topic3\", \"Topic3\", \"Topic3\", \"Topic3\", \"Topic3\", \"Topic3\", \"Topic3\", \"Topic3\", \"Topic3\", \"Topic3\", \"Topic3\", \"Topic3\", \"Topic3\", \"Topic3\", \"Topic3\", \"Topic3\", \"Topic3\", \"Topic4\", \"Topic4\", \"Topic4\", \"Topic4\", \"Topic4\", \"Topic4\", \"Topic4\", \"Topic4\", \"Topic4\", \"Topic4\", \"Topic4\", \"Topic4\", \"Topic4\", \"Topic4\", \"Topic4\", \"Topic4\", \"Topic4\", \"Topic4\", \"Topic4\", \"Topic4\", \"Topic5\", \"Topic5\", \"Topic5\", \"Topic5\", \"Topic5\", \"Topic5\", \"Topic5\", \"Topic5\", \"Topic5\", \"Topic5\", \"Topic5\", \"Topic5\", \"Topic5\", \"Topic5\", \"Topic5\", \"Topic5\", \"Topic5\", \"Topic5\", \"Topic5\", \"Topic5\"], \"logprob\": [20.0, 19.0, 18.0, 17.0, 16.0, 15.0, 14.0, 13.0, 12.0, 11.0, 10.0, 9.0, 8.0, 7.0, 6.0, 5.0, 4.0, 3.0, 2.0, 1.0, -1.8201, -1.8702, -2.2296, -2.517, -1.7215, -1.7161, -3.3836, -3.1751, -3.7234, -4.0685, -4.8011, -5.4092, -6.1031, -6.8906, -6.8631, -7.1813, -7.5393, -7.7891, -6.9261, -7.7674, -2.1385, -1.8515, -1.1678, -2.4317, -3.1047, -3.2581, -3.3595, -3.272, -2.7189, -3.3518, -3.8986, -3.6204, -5.0137, -5.0194, -6.1835, -5.9023, -6.7359, -6.4722, -7.3408, -7.1146, -0.9698, -1.7379, -2.0305, -2.5672, -3.1984, -2.7857, -3.5996, -4.063, -4.05, -3.8778, -4.002, -4.6711, -4.6933, -4.9961, -6.0911, -5.8954, -7.0833, -7.2195, -7.4705, -6.8551, -1.5447, -1.7057, -2.3066, -1.3659, -3.2117, -3.6761, -3.6958, -3.6487, -4.0782, -3.3544, -3.0843, -4.4096, -4.9493, -5.9015, -4.828, -6.3596, -6.3421, -6.6448, -7.2927, -7.3056, -1.5382, -1.8017, -1.7811, -2.2183, -2.6977, -2.4683, -2.6334, -2.9641, -3.6097, -3.9849, -5.8333, -6.0515, -6.2175, -5.0348, -6.3999, -6.2996, -6.5199, -7.1857, -6.8833, -6.6917], \"loglift\": [20.0, 19.0, 18.0, 17.0, 16.0, 15.0, 14.0, 13.0, 12.0, 11.0, 10.0, 9.0, 8.0, 7.0, 6.0, 5.0, 4.0, 3.0, 2.0, 1.0, 1.2668, 1.1102, 1.1085, 0.9847, 0.7214, 0.3474, 0.2106, 0.0663, -0.4691, -1.0154, -1.5245, -2.768, -3.118, -3.5758, -3.6068, -3.9707, -3.9836, -4.3904, -4.46, -4.7703, 1.4172, 1.3592, 0.8957, 0.8097, 0.1516, 0.1406, -0.0447, -0.219, -0.276, -0.3668, -0.3969, -0.64, -1.7371, -1.9325, -2.5894, -2.648, -3.7388, -3.831, -4.0027, -4.6485, 1.4963, 1.2471, 1.2258, 0.074, 0.043, -0.3428, -0.3453, -0.6643, -0.8394, -0.8807, -1.0216, -1.077, -1.6064, -1.9431, -2.5353, -2.5573, -3.8067, -3.9047, -3.9687, -4.7916, 1.4524, 1.3473, 1.2876, 1.2753, 0.1264, -0.1743, -0.2971, -0.6637, -0.8219, -0.9116, -1.0208, -1.0948, -1.9689, -2.3458, -2.3619, -3.149, -3.2552, -3.3682, -4.0513, -4.0513, 1.7385, 1.513, 1.4732, 1.1803, 0.2994, 0.1729, -0.1673, -0.5212, -0.6246, -0.9319, -2.4952, -2.5497, -2.6618, -2.9712, -3.1893, -3.2127, -3.2636, -3.5916, -3.6419, -3.7113]}, \"token.table\": {\"Topic\": [1, 2, 4, 5, 1, 2, 3, 4, 5, 2, 3, 4, 5, 2, 3, 4, 5, 3, 4, 5, 1, 2, 3, 4, 5, 1, 2, 3, 4, 1, 2, 3, 4, 2, 4, 5, 2, 3, 4, 2, 3, 4, 5, 1, 2, 3, 4, 1, 2, 3, 4, 5, 1, 2, 4, 5, 1, 2, 3, 4, 5, 1, 2, 3, 4, 5, 1, 2, 3, 5, 1, 2, 3, 1, 3, 4, 5, 1, 2, 5], \"Freq\": [0.6911278096243214, 0.15949103299022802, 0.1417698071024249, 0.017721225887803112, 0.014989129777822746, 0.007494564888911373, 0.20235325200060708, 0.5845760613350871, 0.18736412222278434, 0.010698362242239162, 0.07488853569567414, 0.7060919079877848, 0.21396724484478324, 0.27175134735676326, 0.09591224024356351, 0.127882986991418, 0.511531947965672, 0.8492596203070878, 0.012581624004549447, 0.1321070520477692, 0.010570131886086843, 0.15855197829130266, 0.6553481769373843, 0.08456105508869474, 0.08456105508869474, 0.7785732670436751, 0.12625512438546083, 0.06312756219273041, 0.02104252073091014, 0.3109762755078308, 0.019436017219239425, 0.058308051657718275, 0.6025165337964221, 0.220475190804901, 0.05879338421464027, 0.7202189566293433, 0.9006826422465628, 0.07947199784528496, 0.01324533297421416, 0.9538695163956132, 0.018703323850894377, 0.018703323850894377, 0.018703323850894377, 0.013863784590902858, 0.2634119072271543, 0.6515978757724343, 0.06931892295451429, 0.5285834660908041, 0.17824326182131764, 0.13521902620927545, 0.06760951310463773, 0.09219479059723326, 0.3659184497688647, 0.567804491020652, 0.05888342869843799, 0.008411918385491142, 0.09051019480095229, 0.18102038960190459, 0.022627548700238073, 0.6335713636066661, 0.05656887175059518, 0.9129018792024659, 0.03511161073855638, 0.03511161073855638, 0.011703870246185459, 0.011703870246185459, 0.16603264949766694, 0.01383605412480558, 0.1383605412480558, 0.691802706240279, 0.27317902421872464, 0.5190401460155768, 0.19122531695310727, 0.7823890941734214, 0.01504594411871964, 0.1805513294246357, 0.01504594411871964, 0.05659330207814348, 0.042444976558607614, 0.8913445077307599], \"Term\": [\"and\", \"and\", \"and\", \"and\", \"apart\", \"apart\", \"apart\", \"apart\", \"apart\", \"apt\", \"apt\", \"apt\", \"apt\", \"beauti\", \"beauti\", \"beauti\", \"beauti\", \"bedroom\", \"bedroom\", \"bedroom\", \"brooklyn\", \"brooklyn\", \"brooklyn\", \"brooklyn\", \"brooklyn\", \"cozi\", \"cozi\", \"cozi\", \"cozi\", \"east\", \"east\", \"east\", \"east\", \"larg\", \"larg\", \"larg\", \"manhattan\", \"manhattan\", \"manhattan\", \"near\", \"near\", \"near\", \"near\", \"park\", \"park\", \"park\", \"park\", \"privat\", \"privat\", \"privat\", \"privat\", \"privat\", \"room\", \"room\", \"room\", \"room\", \"spaciou\", \"spaciou\", \"spaciou\", \"spaciou\", \"spaciou\", \"studio\", \"studio\", \"studio\", \"studio\", \"studio\", \"sunni\", \"sunni\", \"sunni\", \"sunni\", \"the\", \"the\", \"the\", \"williamsburg\", \"williamsburg\", \"williamsburg\", \"williamsburg\", \"with\", \"with\", \"with\"]}, \"R\": 20, \"lambda.step\": 0.01, \"plot.opts\": {\"xlab\": \"PC1\", \"ylab\": \"PC2\"}, \"topic.order\": [1, 3, 2, 4, 5]};\n",
       "\n",
       "function LDAvis_load_lib(url, callback){\n",
       "  var s = document.createElement('script');\n",
       "  s.src = url;\n",
       "  s.async = true;\n",
       "  s.onreadystatechange = s.onload = callback;\n",
       "  s.onerror = function(){console.warn(\"failed to load library \" + url);};\n",
       "  document.getElementsByTagName(\"head\")[0].appendChild(s);\n",
       "}\n",
       "\n",
       "if(typeof(LDAvis) !== \"undefined\"){\n",
       "   // already loaded: just create the visualization\n",
       "   !function(LDAvis){\n",
       "       new LDAvis(\"#\" + \"ldavis_el8153455645783049511455167\", ldavis_el8153455645783049511455167_data);\n",
       "   }(LDAvis);\n",
       "}else if(typeof define === \"function\" && define.amd){\n",
       "   // require.js is available: use it to load d3/LDAvis\n",
       "   require.config({paths: {d3: \"https://d3js.org/d3.v5\"}});\n",
       "   require([\"d3\"], function(d3){\n",
       "      window.d3 = d3;\n",
       "      LDAvis_load_lib(\"https://cdn.jsdelivr.net/gh/bmabey/pyLDAvis@3.4.0/pyLDAvis/js/ldavis.v3.0.0.js\", function(){\n",
       "        new LDAvis(\"#\" + \"ldavis_el8153455645783049511455167\", ldavis_el8153455645783049511455167_data);\n",
       "      });\n",
       "    });\n",
       "}else{\n",
       "    // require.js not available: dynamically load d3 & LDAvis\n",
       "    LDAvis_load_lib(\"https://d3js.org/d3.v5.js\", function(){\n",
       "         LDAvis_load_lib(\"https://cdn.jsdelivr.net/gh/bmabey/pyLDAvis@3.4.0/pyLDAvis/js/ldavis.v3.0.0.js\", function(){\n",
       "                 new LDAvis(\"#\" + \"ldavis_el8153455645783049511455167\", ldavis_el8153455645783049511455167_data);\n",
       "            })\n",
       "         });\n",
       "}\n",
       "</script>"
      ],
      "text/plain": [
       "<IPython.core.display.HTML object>"
      ]
     },
     "execution_count": 63,
     "metadata": {},
     "output_type": "execute_result"
    }
   ],
   "source": [
    "# your code here\n",
    "\n",
    "## Step 1: re-tokenize and store in list\n",
    "## here, i'm doing with the raw random sample of text\n",
    "## in activity, you should do with the preprocessed texts\n",
    "text_raw_tokens2 = [wordpunct_tokenize(one_text) for one_text in \n",
    "                  ab_small.text_preprocess]\n",
    "\n",
    "\n",
    "## Step 2: use gensim create dictionary - gets all unique words across documents\n",
    "text_raw_dict2 = corpora.Dictionary(text_raw_tokens2)\n",
    "raw_len2 = len(text_raw_dict2) # get length for comparison below\n",
    "\n",
    "### explore first few keys and values\n",
    "### see that key is just an arbitrary counter; value is the word itself\n",
    "{k: text_raw_dict2[k] for k in list(text_raw_dict2)[:5]}\n",
    "\n",
    "\n",
    "## Step 3: filter out very rare and very common words\n",
    "## here, i'm using the threshold that a word needs to appear in at least\n",
    "## 5% of docs but not more than 95%\n",
    "## this is an integer count of docs so i round\n",
    "lower_bound2 = round(ab_small.shape[0]*0.05)\n",
    "upper_bound2 = round(ab_small.shape[0]*0.95)\n",
    "\n",
    "### apply filtering to dictionary\n",
    "text_raw_dict2.filter_extremes(no_below = lower_bound2,\n",
    "                             no_above = upper_bound2)\n",
    "print(f'Filtering out very rare and very common words reduced the \\\n",
    "length of dictionary from {str(raw_len2)} to {str(len(text_raw_dict2))}.')\n",
    "{k: text_raw_dict2[k] for k in list(text_raw_dict2)[:5]} # show first five entries after filtering\n",
    "\n",
    "\n",
    "## Step 4: apply dictionary to TOKENIZED texts\n",
    "## this creates a mapping between each word \n",
    "## in a specific listing and the key in the dictionary.\n",
    "## for words that remain in the filtered dictionary,\n",
    "## output is a list where len(list) == n documents\n",
    "## and each element in the list is a list of tuples\n",
    "## containing the mappings\n",
    "corpus_fromdict2 = [text_raw_dict2.doc2bow(one_text) \n",
    "                   for one_text in text_raw_tokens2]\n",
    "\n",
    "### can apply doc2bow(one_text, return_missing = True) to print words\n",
    "### eliminated from the listing bc they're not in filtered dictionary.\n",
    "### but feeding that one with missing values to\n",
    "### the lda function can cause errors\n",
    "corpus_fromdict_showmiss2 = [text_raw_dict2.doc2bow(one_text, return_missing = True)\n",
    "                            for one_text in text_raw_tokens2]\n",
    "print('Sample of documents represented in dictionary format (with omitted words noted):')\n",
    "corpus_fromdict_showmiss2[:10]\n",
    "\n",
    "ldamod2 = gensim.models.ldamodel.LdaModel(corpus_fromdict2, \n",
    "                                         num_topics = 5, \n",
    "                                         id2word=text_raw_dict2, \n",
    "                                         passes=6, \n",
    "                                         alpha = 'auto',\n",
    "                                         per_word_topics = True)\n",
    "\n",
    "## visualizing \n",
    "lda_display2 = gensimvis.prepare(ldamod2, corpus_fromdict2, text_raw_dict2)\n",
    "pyLDAvis.display(lda_display2)"
   ]
  },
  {
   "cell_type": "code",
   "execution_count": 57,
   "metadata": {},
   "outputs": [
    {
     "data": {
      "text/html": [
       "<div>\n",
       "<style scoped>\n",
       "    .dataframe tbody tr th:only-of-type {\n",
       "        vertical-align: middle;\n",
       "    }\n",
       "\n",
       "    .dataframe tbody tr th {\n",
       "        vertical-align: top;\n",
       "    }\n",
       "\n",
       "    .dataframe thead th {\n",
       "        text-align: right;\n",
       "    }\n",
       "</style>\n",
       "<table border=\"1\" class=\"dataframe\">\n",
       "  <thead>\n",
       "    <tr style=\"text-align: right;\">\n",
       "      <th></th>\n",
       "      <th>id</th>\n",
       "      <th>neighbourhood_group</th>\n",
       "      <th>price_rawdata</th>\n",
       "      <th>name</th>\n",
       "      <th>name_lower</th>\n",
       "      <th>processed</th>\n",
       "      <th>text_preprocess</th>\n",
       "    </tr>\n",
       "  </thead>\n",
       "  <tbody>\n",
       "    <tr>\n",
       "      <th>23821</th>\n",
       "      <td>19227560</td>\n",
       "      <td>Queens</td>\n",
       "      <td>100</td>\n",
       "      <td>Super Cozy!</td>\n",
       "      <td>super cozy!</td>\n",
       "      <td>[super, cozi]</td>\n",
       "      <td>super cozi</td>\n",
       "    </tr>\n",
       "    <tr>\n",
       "      <th>22905</th>\n",
       "      <td>18560625</td>\n",
       "      <td>Brooklyn</td>\n",
       "      <td>30</td>\n",
       "      <td>Beautiful Private Bedroom by Prospect Park</td>\n",
       "      <td>beautiful private bedroom by prospect park</td>\n",
       "      <td>[beauti, privat, bedroom, prospect, park]</td>\n",
       "      <td>beauti privat bedroom prospect park</td>\n",
       "    </tr>\n",
       "    <tr>\n",
       "      <th>20426</th>\n",
       "      <td>16289576</td>\n",
       "      <td>Manhattan</td>\n",
       "      <td>80</td>\n",
       "      <td>Best Location on the Upper West Side! - Part II</td>\n",
       "      <td>best location on the upper west side! - part ii</td>\n",
       "      <td>[best, locat, upper, west, side, part]</td>\n",
       "      <td>best locat the upper west side part</td>\n",
       "    </tr>\n",
       "    <tr>\n",
       "      <th>2018</th>\n",
       "      <td>893413</td>\n",
       "      <td>Manhattan</td>\n",
       "      <td>2500</td>\n",
       "      <td>Architecturally Stunning Former Synagogue!</td>\n",
       "      <td>architecturally stunning former synagogue!</td>\n",
       "      <td>[architectur, stun, former, synagogu]</td>\n",
       "      <td>architectur stun former synagogu</td>\n",
       "    </tr>\n",
       "    <tr>\n",
       "      <th>18790</th>\n",
       "      <td>14882137</td>\n",
       "      <td>Queens</td>\n",
       "      <td>50</td>\n",
       "      <td>Large, beautiful room near Bushwick</td>\n",
       "      <td>large, beautiful room near bushwick</td>\n",
       "      <td>[larg, beauti, room, near, bushwick]</td>\n",
       "      <td>larg beauti room near bushwick</td>\n",
       "    </tr>\n",
       "  </tbody>\n",
       "</table>\n",
       "</div>"
      ],
      "text/plain": [
       "             id neighbourhood_group  price_rawdata  \\\n",
       "23821  19227560              Queens            100   \n",
       "22905  18560625            Brooklyn             30   \n",
       "20426  16289576           Manhattan             80   \n",
       "2018     893413           Manhattan           2500   \n",
       "18790  14882137              Queens             50   \n",
       "\n",
       "                                                  name  \\\n",
       "23821                                      Super Cozy!   \n",
       "22905       Beautiful Private Bedroom by Prospect Park   \n",
       "20426  Best Location on the Upper West Side! - Part II   \n",
       "2018        Architecturally Stunning Former Synagogue!   \n",
       "18790              Large, beautiful room near Bushwick   \n",
       "\n",
       "                                            name_lower  \\\n",
       "23821                                      super cozy!   \n",
       "22905       beautiful private bedroom by prospect park   \n",
       "20426  best location on the upper west side! - part ii   \n",
       "2018        architecturally stunning former synagogue!   \n",
       "18790              large, beautiful room near bushwick   \n",
       "\n",
       "                                       processed  \\\n",
       "23821                              [super, cozi]   \n",
       "22905  [beauti, privat, bedroom, prospect, park]   \n",
       "20426     [best, locat, upper, west, side, part]   \n",
       "2018       [architectur, stun, former, synagogu]   \n",
       "18790       [larg, beauti, room, near, bushwick]   \n",
       "\n",
       "                           text_preprocess  \n",
       "23821                           super cozi  \n",
       "22905  beauti privat bedroom prospect park  \n",
       "20426  best locat the upper west side part  \n",
       "2018      architectur stun former synagogu  \n",
       "18790       larg beauti room near bushwick  "
      ]
     },
     "execution_count": 57,
     "metadata": {},
     "output_type": "execute_result"
    }
   ],
   "source": [
    "# Hint: example code for preprocessing\n",
    "def processtext(row, colname):\n",
    "    \n",
    "    string_of_col = str(row[colname])\n",
    "    try:\n",
    "        processed_string = \" \".join([porter.stem(i.lower()) \n",
    "                        for i in wordpunct_tokenize(string_of_col) if \n",
    "                        i.lower().isalpha() and len(i) >=3]) #and i not in punctlist]) # optional: remove punctuation too \n",
    "        return(processed_string)\n",
    "    except:\n",
    "        processed_string = \"\" # to handle data errors where not actually text\n",
    "        return(processed_string)\n",
    "\n",
    "ab_small['text_preprocess'] = ab_small.apply(processtext,\n",
    "                            axis = 1,\n",
    "                            args = [\"name_lower\"])\n",
    "\n",
    "ab_small = ab_small[ab_small.text_preprocess != \"\"].copy()\n",
    "\n",
    "ab_small.head()"
   ]
  }
 ],
 "metadata": {
  "kernelspec": {
   "display_name": "Python 3 (ipykernel)",
   "language": "python",
   "name": "python3"
  },
  "language_info": {
   "codemirror_mode": {
    "name": "ipython",
    "version": 3
   },
   "file_extension": ".py",
   "mimetype": "text/x-python",
   "name": "python",
   "nbconvert_exporter": "python",
   "pygments_lexer": "ipython3",
   "version": "3.11.7"
  }
 },
 "nbformat": 4,
 "nbformat_minor": 4
}
